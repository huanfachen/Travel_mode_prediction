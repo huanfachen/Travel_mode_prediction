{
 "cells": [
  {
   "cell_type": "markdown",
   "metadata": {},
   "source": [
    "This notebook contains the code for the travel mode prediction using the London Passenger Mode Choice data in 2019."
   ]
  },
  {
   "cell_type": "markdown",
   "metadata": {},
   "source": [
    "# Loading packages"
   ]
  },
  {
   "cell_type": "code",
   "execution_count": 1,
   "metadata": {},
   "outputs": [
    {
     "name": "stderr",
     "output_type": "stream",
     "text": [
      "C:\\Users\\Huanfa Chen\\Anaconda3\\envs\\test_tf\\lib\\site-packages\\sklearn\\utils\\deprecation.py:144: FutureWarning: The sklearn.neighbors.base module is  deprecated in version 0.22 and will be removed in version 0.24. The corresponding classes / functions should instead be imported from sklearn.neighbors. Anything that cannot be imported from sklearn.neighbors is now part of the private API.\n",
      "  warnings.warn(message, FutureWarning)\n",
      "C:\\Users\\Huanfa Chen\\Anaconda3\\envs\\test_tf\\lib\\site-packages\\sklearn\\utils\\deprecation.py:144: FutureWarning: The sklearn.ensemble.bagging module is  deprecated in version 0.22 and will be removed in version 0.24. The corresponding classes / functions should instead be imported from sklearn.ensemble. Anything that cannot be imported from sklearn.ensemble is now part of the private API.\n",
      "  warnings.warn(message, FutureWarning)\n",
      "C:\\Users\\Huanfa Chen\\Anaconda3\\envs\\test_tf\\lib\\site-packages\\sklearn\\utils\\deprecation.py:144: FutureWarning: The sklearn.ensemble.base module is  deprecated in version 0.22 and will be removed in version 0.24. The corresponding classes / functions should instead be imported from sklearn.ensemble. Anything that cannot be imported from sklearn.ensemble is now part of the private API.\n",
      "  warnings.warn(message, FutureWarning)\n",
      "C:\\Users\\Huanfa Chen\\Anaconda3\\envs\\test_tf\\lib\\site-packages\\sklearn\\utils\\deprecation.py:144: FutureWarning: The sklearn.ensemble.forest module is  deprecated in version 0.22 and will be removed in version 0.24. The corresponding classes / functions should instead be imported from sklearn.ensemble. Anything that cannot be imported from sklearn.ensemble is now part of the private API.\n",
      "  warnings.warn(message, FutureWarning)\n",
      "C:\\Users\\Huanfa Chen\\Anaconda3\\envs\\test_tf\\lib\\site-packages\\sklearn\\utils\\deprecation.py:144: FutureWarning: The sklearn.utils.testing module is  deprecated in version 0.22 and will be removed in version 0.24. The corresponding classes / functions should instead be imported from sklearn.utils. Anything that cannot be imported from sklearn.utils is now part of the private API.\n",
      "  warnings.warn(message, FutureWarning)\n",
      "C:\\Users\\Huanfa Chen\\Anaconda3\\envs\\test_tf\\lib\\site-packages\\sklearn\\utils\\deprecation.py:144: FutureWarning: The sklearn.metrics.classification module is  deprecated in version 0.22 and will be removed in version 0.24. The corresponding classes / functions should instead be imported from sklearn.metrics. Anything that cannot be imported from sklearn.metrics is now part of the private API.\n",
      "  warnings.warn(message, FutureWarning)\n"
     ]
    }
   ],
   "source": [
    "# %load ModeChoiceRndFst.py\n",
    "from sklearn import datasets\n",
    "import numpy as np\n",
    "\n",
    "import matplotlib.pyplot as plt\n",
    "# change the font to 'Times New Roman'. By default, it is 'sans-serif'\n",
    "plt.rcParams[\"font.family\"] = \"Times New Roman\"\n",
    "\n",
    "import pandas as pd\n",
    "from matplotlib.colors import ListedColormap\n",
    "import seaborn as sns\n",
    "\n",
    "# sklearn package\n",
    "from sklearn.tree import DecisionTreeClassifier\n",
    "from sklearn.ensemble import RandomForestClassifier\n",
    "from sklearn.metrics import classification_report, confusion_matrix\n",
    "# from pydotplus import graph_from_dot_data\n",
    "from sklearn.tree import export_graphviz\n",
    "from sklearn.model_selection import train_test_split\n",
    "from sklearn.model_selection import StratifiedKFold\n",
    "from sklearn.model_selection import cross_val_score, cross_validate\n",
    "from sklearn.model_selection import StratifiedKFold\n",
    "\n",
    "# imbalance\n",
    "from imblearn.pipeline import Pipeline\n",
    "from imblearn import over_sampling\n",
    "\n",
    "import time\n",
    "import rfpimp\n",
    "\n",
    "# XGBoost\n",
    "import xgboost as xgb\n",
    "\n",
    "# hyperopt\n",
    "from hyperopt import fmin, tpe, hp, STATUS_OK, Trials\n",
    "from hyperopt import plotting"
   ]
  },
  {
   "cell_type": "markdown",
   "metadata": {},
   "source": [
    "# Loading data"
   ]
  },
  {
   "cell_type": "code",
   "execution_count": 2,
   "metadata": {},
   "outputs": [
    {
     "name": "stdout",
     "output_type": "stream",
     "text": [
      "********************************Loading training and test set...********************************\n",
      "Index(['caseid', 'tripid', 'houseid', 'person_n', 'trip_n', 'travel_mode',\n",
      "       'household_size_int', 'household_chld', 'household_Teen',\n",
      "       'household_Avgage', 'car_ownership', 'female', 'age', 'driving_license',\n",
      "       'purpose', 'fueltype', 'faretype', 'bus_scale', 'season', 'day_of_week',\n",
      "       'time_of_day', 'dur1', 'dur2', 'dur3', 'dur4', 'cost3', 'cost4',\n",
      "       'pt_interchange'],\n",
      "      dtype='object')\n"
     ]
    }
   ],
   "source": [
    "# Import Dataset\n",
    "\n",
    "print ('********************************Loading training and test set...********************************')  \n",
    "\n",
    "lpmc_train = pd.read_csv(\"20200915_lpmc_train_idco_Biogeme.csv\", header=0,sep=',')\n",
    "lpmc_test  = pd.read_csv(\"20200915_lpmc_test_idco_Biogeme.csv\", header=0,sep=',')\n",
    "\n",
    "print(lpmc_train.columns)"
   ]
  },
  {
   "cell_type": "markdown",
   "metadata": {},
   "source": [
    "The mapping from mode number to mode name is the following:\n",
    "\n",
    "| Mode Number | Mode                  |\n",
    "| ----------- | --------------------- |\n",
    "| 1           | walking               |\n",
    "| 2           | cycling               |\n",
    "| 3           | public transport (PT) |\n",
    "| 4           | driving               |\n",
    "\n",
    "Some columns have been removed:\n",
    "\n",
    "- 'cost1', aka the estimated cost of walking (all values being zero)\n",
    "- 'cost2', aka the estimated cost of cycling (all values being zero)\n",
    "- 'distance' between origin and destination (highly correlated with the driving time, 'dur4')"
   ]
  },
  {
   "cell_type": "code",
   "execution_count": 3,
   "metadata": {},
   "outputs": [
    {
     "name": "stdout",
     "output_type": "stream",
     "text": [
      "lpmc training set size:(54766, 22)\n",
      "lpmc test set size:(26320, 22)\n",
      "\n",
      "lpmc features=\n",
      "\n",
      "['household_size_int' 'household_chld' 'household_Teen' 'household_Avgage'\n",
      " 'car_ownership' 'female' 'age' 'driving_license' 'purpose' 'fueltype'\n",
      " 'faretype' 'bus_scale' 'season' 'day_of_week' 'time_of_day' 'dur_walking'\n",
      " 'dur_cycling' 'dur_pt' 'dur_driving' 'cost_pt' 'cost_driving'\n",
      " 'pt_interchange']\n",
      "\n",
      "********************************Loading done********************************\n",
      "\n"
     ]
    }
   ],
   "source": [
    "# exclude the first 6 columns\n",
    "# 'caseid', 'tripid', 'houseid', 'person_n', 'trip_n', 'travel_mode'\n",
    "\n",
    "X_train = lpmc_train.iloc[:,6:]\n",
    "y_train = lpmc_train['travel_mode']\n",
    "\n",
    "X_test = lpmc_test.iloc[:,6:]\n",
    "y_test = lpmc_test['travel_mode']\n",
    "\n",
    "# rename columns\n",
    "df_feature_name_mapping = pd.DataFrame({'existing_name':['dur1', 'dur2', 'dur3', 'dur4', 'cost3', 'cost4'], \n",
    "                                        'new_name':['dur_walking', 'dur_cycling', 'dur_pt', 'dur_driving', 'cost_pt', 'cost_driving']})\n",
    "\n",
    "dict_feature_name_mapping = dict(zip(df_feature_name_mapping['existing_name'], df_feature_name_mapping['new_name']))\n",
    "X_test.columns = [dict_feature_name_mapping.get(x,x) for x in X_test.columns]\n",
    "X_train.columns = X_test.columns\n",
    "\n",
    "# create an alias for X_train2 and X_test2\n",
    "X_train2 = X_train\n",
    "X_test2 = X_test\n",
    "\n",
    "list_input_features = X_train.columns.values\n",
    "\n",
    "print ('lpmc training set size:'+ str(X_train.shape))  \n",
    "print ('lpmc test set size:'+ str(X_test.shape))\n",
    "print('\\nlpmc features=\\n')\n",
    "\n",
    "print(list_input_features)\n",
    "\n",
    "print ('\\n********************************Loading done********************************\\n') "
   ]
  },
  {
   "cell_type": "code",
   "execution_count": 4,
   "metadata": {},
   "outputs": [
    {
     "name": "stdout",
     "output_type": "stream",
     "text": [
      "Mode count in training data\n",
      "4    24534\n",
      "3    19104\n",
      "1     9584\n",
      "2     1544\n",
      "Name: travel_mode, dtype: int64\n",
      "\n",
      "Mode share in training data\n",
      "4    0.447979\n",
      "3    0.348830\n",
      "1    0.174999\n",
      "2    0.028193\n",
      "Name: travel_mode, dtype: float64\n",
      "\n",
      "Mode count in testing data\n",
      "4    11274\n",
      "3     9501\n",
      "1     4684\n",
      "2      861\n",
      "Name: travel_mode, dtype: int64\n"
     ]
    }
   ],
   "source": [
    "# the mode proportion in training and testing data\n",
    "print(\"Mode count in training data\")\n",
    "\n",
    "y_train_no_index = y_train.reset_index()\n",
    "print(y_train_no_index['travel_mode'].value_counts())\n",
    "\n",
    "print(\"\")\n",
    "print(\"Mode share in training data\")\n",
    "print(y_train_no_index['travel_mode'].value_counts(normalize=True))\n",
    "print(\"\")\n",
    "\n",
    "print(\"Mode count in testing data\")\n",
    "print(y_test.reset_index()['travel_mode'].value_counts())"
   ]
  },
  {
   "cell_type": "code",
   "execution_count": 5,
   "metadata": {},
   "outputs": [
    {
     "data": {
      "text/html": [
       "<div>\n",
       "<style scoped>\n",
       "    .dataframe tbody tr th:only-of-type {\n",
       "        vertical-align: middle;\n",
       "    }\n",
       "\n",
       "    .dataframe tbody tr th {\n",
       "        vertical-align: top;\n",
       "    }\n",
       "\n",
       "    .dataframe thead th {\n",
       "        text-align: right;\n",
       "    }\n",
       "</style>\n",
       "<table border=\"1\" class=\"dataframe\">\n",
       "  <thead>\n",
       "    <tr style=\"text-align: right;\">\n",
       "      <th></th>\n",
       "      <th>household_size_int</th>\n",
       "      <th>household_chld</th>\n",
       "      <th>household_Teen</th>\n",
       "      <th>household_Avgage</th>\n",
       "      <th>car_ownership</th>\n",
       "      <th>female</th>\n",
       "      <th>age</th>\n",
       "      <th>driving_license</th>\n",
       "      <th>purpose</th>\n",
       "      <th>fueltype</th>\n",
       "      <th>...</th>\n",
       "      <th>season</th>\n",
       "      <th>day_of_week</th>\n",
       "      <th>time_of_day</th>\n",
       "      <th>dur_walking</th>\n",
       "      <th>dur_cycling</th>\n",
       "      <th>dur_pt</th>\n",
       "      <th>dur_driving</th>\n",
       "      <th>cost_pt</th>\n",
       "      <th>cost_driving</th>\n",
       "      <th>pt_interchange</th>\n",
       "    </tr>\n",
       "  </thead>\n",
       "  <tbody>\n",
       "    <tr>\n",
       "      <th>household_size_int</th>\n",
       "      <td>1.000000</td>\n",
       "      <td>0.298623</td>\n",
       "      <td>0.207710</td>\n",
       "      <td>-0.478521</td>\n",
       "      <td>0.114494</td>\n",
       "      <td>0.004954</td>\n",
       "      <td>-0.371120</td>\n",
       "      <td>-0.181831</td>\n",
       "      <td>-0.068894</td>\n",
       "      <td>-0.221003</td>\n",
       "      <td>...</td>\n",
       "      <td>-0.013531</td>\n",
       "      <td>0.018340</td>\n",
       "      <td>-0.028490</td>\n",
       "      <td>-0.026578</td>\n",
       "      <td>-0.034637</td>\n",
       "      <td>0.003078</td>\n",
       "      <td>-0.050135</td>\n",
       "      <td>-0.048503</td>\n",
       "      <td>-0.087331</td>\n",
       "      <td>-0.011354</td>\n",
       "    </tr>\n",
       "    <tr>\n",
       "      <th>household_chld</th>\n",
       "      <td>0.298623</td>\n",
       "      <td>1.000000</td>\n",
       "      <td>0.082872</td>\n",
       "      <td>-0.311953</td>\n",
       "      <td>0.032410</td>\n",
       "      <td>0.025317</td>\n",
       "      <td>-0.239156</td>\n",
       "      <td>-0.127561</td>\n",
       "      <td>-0.003250</td>\n",
       "      <td>-0.026408</td>\n",
       "      <td>...</td>\n",
       "      <td>0.013726</td>\n",
       "      <td>0.009722</td>\n",
       "      <td>-0.044751</td>\n",
       "      <td>-0.060556</td>\n",
       "      <td>-0.062998</td>\n",
       "      <td>-0.054084</td>\n",
       "      <td>-0.070138</td>\n",
       "      <td>-0.077481</td>\n",
       "      <td>-0.070171</td>\n",
       "      <td>-0.044084</td>\n",
       "    </tr>\n",
       "    <tr>\n",
       "      <th>household_Teen</th>\n",
       "      <td>0.207710</td>\n",
       "      <td>0.082872</td>\n",
       "      <td>1.000000</td>\n",
       "      <td>-0.115573</td>\n",
       "      <td>0.031150</td>\n",
       "      <td>0.017651</td>\n",
       "      <td>-0.091538</td>\n",
       "      <td>-0.042680</td>\n",
       "      <td>-0.013759</td>\n",
       "      <td>-0.045515</td>\n",
       "      <td>...</td>\n",
       "      <td>-0.037660</td>\n",
       "      <td>-0.016250</td>\n",
       "      <td>-0.011899</td>\n",
       "      <td>-0.005484</td>\n",
       "      <td>-0.007253</td>\n",
       "      <td>0.000403</td>\n",
       "      <td>-0.008634</td>\n",
       "      <td>-0.007989</td>\n",
       "      <td>-0.022765</td>\n",
       "      <td>-0.001334</td>\n",
       "    </tr>\n",
       "    <tr>\n",
       "      <th>household_Avgage</th>\n",
       "      <td>-0.478521</td>\n",
       "      <td>-0.311953</td>\n",
       "      <td>-0.115573</td>\n",
       "      <td>1.000000</td>\n",
       "      <td>0.060338</td>\n",
       "      <td>-0.030179</td>\n",
       "      <td>0.828888</td>\n",
       "      <td>0.203630</td>\n",
       "      <td>0.082107</td>\n",
       "      <td>-0.063783</td>\n",
       "      <td>...</td>\n",
       "      <td>-0.007710</td>\n",
       "      <td>-0.048647</td>\n",
       "      <td>-0.025350</td>\n",
       "      <td>-0.018190</td>\n",
       "      <td>-0.020415</td>\n",
       "      <td>-0.026046</td>\n",
       "      <td>-0.035194</td>\n",
       "      <td>-0.209390</td>\n",
       "      <td>-0.035173</td>\n",
       "      <td>-0.023874</td>\n",
       "    </tr>\n",
       "    <tr>\n",
       "      <th>car_ownership</th>\n",
       "      <td>0.114494</td>\n",
       "      <td>0.032410</td>\n",
       "      <td>0.031150</td>\n",
       "      <td>0.060338</td>\n",
       "      <td>1.000000</td>\n",
       "      <td>-0.007462</td>\n",
       "      <td>0.064557</td>\n",
       "      <td>0.348737</td>\n",
       "      <td>0.043370</td>\n",
       "      <td>-0.738959</td>\n",
       "      <td>...</td>\n",
       "      <td>-0.000035</td>\n",
       "      <td>-0.000227</td>\n",
       "      <td>-0.007465</td>\n",
       "      <td>0.054362</td>\n",
       "      <td>0.041605</td>\n",
       "      <td>0.089080</td>\n",
       "      <td>-0.005998</td>\n",
       "      <td>-0.001434</td>\n",
       "      <td>-0.075234</td>\n",
       "      <td>0.051679</td>\n",
       "    </tr>\n",
       "    <tr>\n",
       "      <th>female</th>\n",
       "      <td>0.004954</td>\n",
       "      <td>0.025317</td>\n",
       "      <td>0.017651</td>\n",
       "      <td>-0.030179</td>\n",
       "      <td>-0.007462</td>\n",
       "      <td>1.000000</td>\n",
       "      <td>-0.005022</td>\n",
       "      <td>-0.092866</td>\n",
       "      <td>0.032777</td>\n",
       "      <td>0.030888</td>\n",
       "      <td>...</td>\n",
       "      <td>-0.013874</td>\n",
       "      <td>-0.023979</td>\n",
       "      <td>-0.024743</td>\n",
       "      <td>-0.093376</td>\n",
       "      <td>-0.094631</td>\n",
       "      <td>-0.083673</td>\n",
       "      <td>-0.089864</td>\n",
       "      <td>-0.040872</td>\n",
       "      <td>-0.062175</td>\n",
       "      <td>-0.072706</td>\n",
       "    </tr>\n",
       "    <tr>\n",
       "      <th>age</th>\n",
       "      <td>-0.371120</td>\n",
       "      <td>-0.239156</td>\n",
       "      <td>-0.091538</td>\n",
       "      <td>0.828888</td>\n",
       "      <td>0.064557</td>\n",
       "      <td>-0.005022</td>\n",
       "      <td>1.000000</td>\n",
       "      <td>0.388898</td>\n",
       "      <td>0.079700</td>\n",
       "      <td>-0.057954</td>\n",
       "      <td>...</td>\n",
       "      <td>-0.007652</td>\n",
       "      <td>-0.052642</td>\n",
       "      <td>-0.037333</td>\n",
       "      <td>-0.017356</td>\n",
       "      <td>-0.019937</td>\n",
       "      <td>-0.023694</td>\n",
       "      <td>-0.035551</td>\n",
       "      <td>-0.072593</td>\n",
       "      <td>-0.035586</td>\n",
       "      <td>-0.020616</td>\n",
       "    </tr>\n",
       "    <tr>\n",
       "      <th>driving_license</th>\n",
       "      <td>-0.181831</td>\n",
       "      <td>-0.127561</td>\n",
       "      <td>-0.042680</td>\n",
       "      <td>0.203630</td>\n",
       "      <td>0.348737</td>\n",
       "      <td>-0.092866</td>\n",
       "      <td>0.388898</td>\n",
       "      <td>1.000000</td>\n",
       "      <td>0.027313</td>\n",
       "      <td>-0.306965</td>\n",
       "      <td>...</td>\n",
       "      <td>0.011804</td>\n",
       "      <td>0.000446</td>\n",
       "      <td>0.028949</td>\n",
       "      <td>0.104188</td>\n",
       "      <td>0.104216</td>\n",
       "      <td>0.101251</td>\n",
       "      <td>0.092796</td>\n",
       "      <td>0.265431</td>\n",
       "      <td>0.077724</td>\n",
       "      <td>0.081932</td>\n",
       "    </tr>\n",
       "    <tr>\n",
       "      <th>purpose</th>\n",
       "      <td>-0.068894</td>\n",
       "      <td>-0.003250</td>\n",
       "      <td>-0.013759</td>\n",
       "      <td>0.082107</td>\n",
       "      <td>0.043370</td>\n",
       "      <td>0.032777</td>\n",
       "      <td>0.079700</td>\n",
       "      <td>0.027313</td>\n",
       "      <td>1.000000</td>\n",
       "      <td>-0.008514</td>\n",
       "      <td>...</td>\n",
       "      <td>-0.009771</td>\n",
       "      <td>0.134466</td>\n",
       "      <td>0.112072</td>\n",
       "      <td>-0.172004</td>\n",
       "      <td>-0.168252</td>\n",
       "      <td>-0.179751</td>\n",
       "      <td>-0.180168</td>\n",
       "      <td>-0.164617</td>\n",
       "      <td>-0.095128</td>\n",
       "      <td>-0.124904</td>\n",
       "    </tr>\n",
       "    <tr>\n",
       "      <th>fueltype</th>\n",
       "      <td>-0.221003</td>\n",
       "      <td>-0.026408</td>\n",
       "      <td>-0.045515</td>\n",
       "      <td>-0.063783</td>\n",
       "      <td>-0.738959</td>\n",
       "      <td>0.030888</td>\n",
       "      <td>-0.057954</td>\n",
       "      <td>-0.306965</td>\n",
       "      <td>-0.008514</td>\n",
       "      <td>1.000000</td>\n",
       "      <td>...</td>\n",
       "      <td>0.014046</td>\n",
       "      <td>-0.004145</td>\n",
       "      <td>0.007205</td>\n",
       "      <td>-0.062055</td>\n",
       "      <td>-0.048913</td>\n",
       "      <td>-0.085715</td>\n",
       "      <td>-0.010647</td>\n",
       "      <td>0.002479</td>\n",
       "      <td>0.061612</td>\n",
       "      <td>-0.052309</td>\n",
       "    </tr>\n",
       "    <tr>\n",
       "      <th>faretype</th>\n",
       "      <td>-0.030940</td>\n",
       "      <td>0.083408</td>\n",
       "      <td>-0.008674</td>\n",
       "      <td>0.362031</td>\n",
       "      <td>-0.003266</td>\n",
       "      <td>-0.024477</td>\n",
       "      <td>0.168266</td>\n",
       "      <td>-0.237965</td>\n",
       "      <td>0.083904</td>\n",
       "      <td>-0.014871</td>\n",
       "      <td>...</td>\n",
       "      <td>-0.008707</td>\n",
       "      <td>-0.013296</td>\n",
       "      <td>-0.040253</td>\n",
       "      <td>-0.127484</td>\n",
       "      <td>-0.130542</td>\n",
       "      <td>-0.117199</td>\n",
       "      <td>-0.142523</td>\n",
       "      <td>-0.642711</td>\n",
       "      <td>-0.121847</td>\n",
       "      <td>-0.095296</td>\n",
       "    </tr>\n",
       "    <tr>\n",
       "      <th>bus_scale</th>\n",
       "      <td>-0.051871</td>\n",
       "      <td>-0.069660</td>\n",
       "      <td>-0.009571</td>\n",
       "      <td>-0.292979</td>\n",
       "      <td>-0.019802</td>\n",
       "      <td>0.025190</td>\n",
       "      <td>-0.059872</td>\n",
       "      <td>0.352012</td>\n",
       "      <td>-0.066173</td>\n",
       "      <td>0.033462</td>\n",
       "      <td>...</td>\n",
       "      <td>0.013493</td>\n",
       "      <td>0.022864</td>\n",
       "      <td>0.056931</td>\n",
       "      <td>0.142969</td>\n",
       "      <td>0.148827</td>\n",
       "      <td>0.122062</td>\n",
       "      <td>0.164204</td>\n",
       "      <td>0.703647</td>\n",
       "      <td>0.153353</td>\n",
       "      <td>0.105282</td>\n",
       "    </tr>\n",
       "    <tr>\n",
       "      <th>season</th>\n",
       "      <td>-0.013531</td>\n",
       "      <td>0.013726</td>\n",
       "      <td>-0.037660</td>\n",
       "      <td>-0.007710</td>\n",
       "      <td>-0.000035</td>\n",
       "      <td>-0.013874</td>\n",
       "      <td>-0.007652</td>\n",
       "      <td>0.011804</td>\n",
       "      <td>-0.009771</td>\n",
       "      <td>0.014046</td>\n",
       "      <td>...</td>\n",
       "      <td>1.000000</td>\n",
       "      <td>0.001661</td>\n",
       "      <td>-0.019234</td>\n",
       "      <td>0.008394</td>\n",
       "      <td>0.007259</td>\n",
       "      <td>0.006450</td>\n",
       "      <td>0.005878</td>\n",
       "      <td>0.014335</td>\n",
       "      <td>0.021511</td>\n",
       "      <td>0.007016</td>\n",
       "    </tr>\n",
       "    <tr>\n",
       "      <th>day_of_week</th>\n",
       "      <td>0.018340</td>\n",
       "      <td>0.009722</td>\n",
       "      <td>-0.016250</td>\n",
       "      <td>-0.048647</td>\n",
       "      <td>-0.000227</td>\n",
       "      <td>-0.023979</td>\n",
       "      <td>-0.052642</td>\n",
       "      <td>0.000446</td>\n",
       "      <td>0.134466</td>\n",
       "      <td>-0.004145</td>\n",
       "      <td>...</td>\n",
       "      <td>0.001661</td>\n",
       "      <td>1.000000</td>\n",
       "      <td>0.086633</td>\n",
       "      <td>-0.014044</td>\n",
       "      <td>-0.014181</td>\n",
       "      <td>-0.007286</td>\n",
       "      <td>-0.053716</td>\n",
       "      <td>-0.028522</td>\n",
       "      <td>-0.104807</td>\n",
       "      <td>0.002662</td>\n",
       "    </tr>\n",
       "    <tr>\n",
       "      <th>time_of_day</th>\n",
       "      <td>-0.028490</td>\n",
       "      <td>-0.044751</td>\n",
       "      <td>-0.011899</td>\n",
       "      <td>-0.025350</td>\n",
       "      <td>-0.007465</td>\n",
       "      <td>-0.024743</td>\n",
       "      <td>-0.037333</td>\n",
       "      <td>0.028949</td>\n",
       "      <td>0.112072</td>\n",
       "      <td>0.007205</td>\n",
       "      <td>...</td>\n",
       "      <td>-0.019234</td>\n",
       "      <td>0.086633</td>\n",
       "      <td>1.000000</td>\n",
       "      <td>0.025629</td>\n",
       "      <td>0.028549</td>\n",
       "      <td>0.014781</td>\n",
       "      <td>-0.005685</td>\n",
       "      <td>0.018242</td>\n",
       "      <td>-0.101026</td>\n",
       "      <td>0.021552</td>\n",
       "    </tr>\n",
       "    <tr>\n",
       "      <th>dur_walking</th>\n",
       "      <td>-0.026578</td>\n",
       "      <td>-0.060556</td>\n",
       "      <td>-0.005484</td>\n",
       "      <td>-0.018190</td>\n",
       "      <td>0.054362</td>\n",
       "      <td>-0.093376</td>\n",
       "      <td>-0.017356</td>\n",
       "      <td>0.104188</td>\n",
       "      <td>-0.172004</td>\n",
       "      <td>-0.062055</td>\n",
       "      <td>...</td>\n",
       "      <td>0.008394</td>\n",
       "      <td>-0.014044</td>\n",
       "      <td>0.025629</td>\n",
       "      <td>1.000000</td>\n",
       "      <td>0.991605</td>\n",
       "      <td>0.881599</td>\n",
       "      <td>0.929542</td>\n",
       "      <td>0.585953</td>\n",
       "      <td>0.453863</td>\n",
       "      <td>0.688515</td>\n",
       "    </tr>\n",
       "    <tr>\n",
       "      <th>dur_cycling</th>\n",
       "      <td>-0.034637</td>\n",
       "      <td>-0.062998</td>\n",
       "      <td>-0.007253</td>\n",
       "      <td>-0.020415</td>\n",
       "      <td>0.041605</td>\n",
       "      <td>-0.094631</td>\n",
       "      <td>-0.019937</td>\n",
       "      <td>0.104216</td>\n",
       "      <td>-0.168252</td>\n",
       "      <td>-0.048913</td>\n",
       "      <td>...</td>\n",
       "      <td>0.007259</td>\n",
       "      <td>-0.014181</td>\n",
       "      <td>0.028549</td>\n",
       "      <td>0.991605</td>\n",
       "      <td>1.000000</td>\n",
       "      <td>0.875192</td>\n",
       "      <td>0.937265</td>\n",
       "      <td>0.591062</td>\n",
       "      <td>0.475861</td>\n",
       "      <td>0.687117</td>\n",
       "    </tr>\n",
       "    <tr>\n",
       "      <th>dur_pt</th>\n",
       "      <td>0.003078</td>\n",
       "      <td>-0.054084</td>\n",
       "      <td>0.000403</td>\n",
       "      <td>-0.026046</td>\n",
       "      <td>0.089080</td>\n",
       "      <td>-0.083673</td>\n",
       "      <td>-0.023694</td>\n",
       "      <td>0.101251</td>\n",
       "      <td>-0.179751</td>\n",
       "      <td>-0.085715</td>\n",
       "      <td>...</td>\n",
       "      <td>0.006450</td>\n",
       "      <td>-0.007286</td>\n",
       "      <td>0.014781</td>\n",
       "      <td>0.881599</td>\n",
       "      <td>0.875192</td>\n",
       "      <td>1.000000</td>\n",
       "      <td>0.818327</td>\n",
       "      <td>0.519676</td>\n",
       "      <td>0.337932</td>\n",
       "      <td>0.735210</td>\n",
       "    </tr>\n",
       "    <tr>\n",
       "      <th>dur_driving</th>\n",
       "      <td>-0.050135</td>\n",
       "      <td>-0.070138</td>\n",
       "      <td>-0.008634</td>\n",
       "      <td>-0.035194</td>\n",
       "      <td>-0.005998</td>\n",
       "      <td>-0.089864</td>\n",
       "      <td>-0.035551</td>\n",
       "      <td>0.092796</td>\n",
       "      <td>-0.180168</td>\n",
       "      <td>-0.010647</td>\n",
       "      <td>...</td>\n",
       "      <td>0.005878</td>\n",
       "      <td>-0.053716</td>\n",
       "      <td>-0.005685</td>\n",
       "      <td>0.929542</td>\n",
       "      <td>0.937265</td>\n",
       "      <td>0.818327</td>\n",
       "      <td>1.000000</td>\n",
       "      <td>0.608445</td>\n",
       "      <td>0.574700</td>\n",
       "      <td>0.648180</td>\n",
       "    </tr>\n",
       "    <tr>\n",
       "      <th>cost_pt</th>\n",
       "      <td>-0.048503</td>\n",
       "      <td>-0.077481</td>\n",
       "      <td>-0.007989</td>\n",
       "      <td>-0.209390</td>\n",
       "      <td>-0.001434</td>\n",
       "      <td>-0.040872</td>\n",
       "      <td>-0.072593</td>\n",
       "      <td>0.265431</td>\n",
       "      <td>-0.164617</td>\n",
       "      <td>0.002479</td>\n",
       "      <td>...</td>\n",
       "      <td>0.014335</td>\n",
       "      <td>-0.028522</td>\n",
       "      <td>0.018242</td>\n",
       "      <td>0.585953</td>\n",
       "      <td>0.591062</td>\n",
       "      <td>0.519676</td>\n",
       "      <td>0.608445</td>\n",
       "      <td>1.000000</td>\n",
       "      <td>0.401383</td>\n",
       "      <td>0.573359</td>\n",
       "    </tr>\n",
       "    <tr>\n",
       "      <th>cost_driving</th>\n",
       "      <td>-0.087331</td>\n",
       "      <td>-0.070171</td>\n",
       "      <td>-0.022765</td>\n",
       "      <td>-0.035173</td>\n",
       "      <td>-0.075234</td>\n",
       "      <td>-0.062175</td>\n",
       "      <td>-0.035586</td>\n",
       "      <td>0.077724</td>\n",
       "      <td>-0.095128</td>\n",
       "      <td>0.061612</td>\n",
       "      <td>...</td>\n",
       "      <td>0.021511</td>\n",
       "      <td>-0.104807</td>\n",
       "      <td>-0.101026</td>\n",
       "      <td>0.453863</td>\n",
       "      <td>0.475861</td>\n",
       "      <td>0.337932</td>\n",
       "      <td>0.574700</td>\n",
       "      <td>0.401383</td>\n",
       "      <td>1.000000</td>\n",
       "      <td>0.269406</td>\n",
       "    </tr>\n",
       "    <tr>\n",
       "      <th>pt_interchange</th>\n",
       "      <td>-0.011354</td>\n",
       "      <td>-0.044084</td>\n",
       "      <td>-0.001334</td>\n",
       "      <td>-0.023874</td>\n",
       "      <td>0.051679</td>\n",
       "      <td>-0.072706</td>\n",
       "      <td>-0.020616</td>\n",
       "      <td>0.081932</td>\n",
       "      <td>-0.124904</td>\n",
       "      <td>-0.052309</td>\n",
       "      <td>...</td>\n",
       "      <td>0.007016</td>\n",
       "      <td>0.002662</td>\n",
       "      <td>0.021552</td>\n",
       "      <td>0.688515</td>\n",
       "      <td>0.687117</td>\n",
       "      <td>0.735210</td>\n",
       "      <td>0.648180</td>\n",
       "      <td>0.573359</td>\n",
       "      <td>0.269406</td>\n",
       "      <td>1.000000</td>\n",
       "    </tr>\n",
       "  </tbody>\n",
       "</table>\n",
       "<p>22 rows × 22 columns</p>\n",
       "</div>"
      ],
      "text/plain": [
       "                    household_size_int  household_chld  household_Teen  \\\n",
       "household_size_int            1.000000        0.298623        0.207710   \n",
       "household_chld                0.298623        1.000000        0.082872   \n",
       "household_Teen                0.207710        0.082872        1.000000   \n",
       "household_Avgage             -0.478521       -0.311953       -0.115573   \n",
       "car_ownership                 0.114494        0.032410        0.031150   \n",
       "female                        0.004954        0.025317        0.017651   \n",
       "age                          -0.371120       -0.239156       -0.091538   \n",
       "driving_license              -0.181831       -0.127561       -0.042680   \n",
       "purpose                      -0.068894       -0.003250       -0.013759   \n",
       "fueltype                     -0.221003       -0.026408       -0.045515   \n",
       "faretype                     -0.030940        0.083408       -0.008674   \n",
       "bus_scale                    -0.051871       -0.069660       -0.009571   \n",
       "season                       -0.013531        0.013726       -0.037660   \n",
       "day_of_week                   0.018340        0.009722       -0.016250   \n",
       "time_of_day                  -0.028490       -0.044751       -0.011899   \n",
       "dur_walking                  -0.026578       -0.060556       -0.005484   \n",
       "dur_cycling                  -0.034637       -0.062998       -0.007253   \n",
       "dur_pt                        0.003078       -0.054084        0.000403   \n",
       "dur_driving                  -0.050135       -0.070138       -0.008634   \n",
       "cost_pt                      -0.048503       -0.077481       -0.007989   \n",
       "cost_driving                 -0.087331       -0.070171       -0.022765   \n",
       "pt_interchange               -0.011354       -0.044084       -0.001334   \n",
       "\n",
       "                    household_Avgage  car_ownership    female       age  \\\n",
       "household_size_int         -0.478521       0.114494  0.004954 -0.371120   \n",
       "household_chld             -0.311953       0.032410  0.025317 -0.239156   \n",
       "household_Teen             -0.115573       0.031150  0.017651 -0.091538   \n",
       "household_Avgage            1.000000       0.060338 -0.030179  0.828888   \n",
       "car_ownership               0.060338       1.000000 -0.007462  0.064557   \n",
       "female                     -0.030179      -0.007462  1.000000 -0.005022   \n",
       "age                         0.828888       0.064557 -0.005022  1.000000   \n",
       "driving_license             0.203630       0.348737 -0.092866  0.388898   \n",
       "purpose                     0.082107       0.043370  0.032777  0.079700   \n",
       "fueltype                   -0.063783      -0.738959  0.030888 -0.057954   \n",
       "faretype                    0.362031      -0.003266 -0.024477  0.168266   \n",
       "bus_scale                  -0.292979      -0.019802  0.025190 -0.059872   \n",
       "season                     -0.007710      -0.000035 -0.013874 -0.007652   \n",
       "day_of_week                -0.048647      -0.000227 -0.023979 -0.052642   \n",
       "time_of_day                -0.025350      -0.007465 -0.024743 -0.037333   \n",
       "dur_walking                -0.018190       0.054362 -0.093376 -0.017356   \n",
       "dur_cycling                -0.020415       0.041605 -0.094631 -0.019937   \n",
       "dur_pt                     -0.026046       0.089080 -0.083673 -0.023694   \n",
       "dur_driving                -0.035194      -0.005998 -0.089864 -0.035551   \n",
       "cost_pt                    -0.209390      -0.001434 -0.040872 -0.072593   \n",
       "cost_driving               -0.035173      -0.075234 -0.062175 -0.035586   \n",
       "pt_interchange             -0.023874       0.051679 -0.072706 -0.020616   \n",
       "\n",
       "                    driving_license   purpose  fueltype  ...    season  \\\n",
       "household_size_int        -0.181831 -0.068894 -0.221003  ... -0.013531   \n",
       "household_chld            -0.127561 -0.003250 -0.026408  ...  0.013726   \n",
       "household_Teen            -0.042680 -0.013759 -0.045515  ... -0.037660   \n",
       "household_Avgage           0.203630  0.082107 -0.063783  ... -0.007710   \n",
       "car_ownership              0.348737  0.043370 -0.738959  ... -0.000035   \n",
       "female                    -0.092866  0.032777  0.030888  ... -0.013874   \n",
       "age                        0.388898  0.079700 -0.057954  ... -0.007652   \n",
       "driving_license            1.000000  0.027313 -0.306965  ...  0.011804   \n",
       "purpose                    0.027313  1.000000 -0.008514  ... -0.009771   \n",
       "fueltype                  -0.306965 -0.008514  1.000000  ...  0.014046   \n",
       "faretype                  -0.237965  0.083904 -0.014871  ... -0.008707   \n",
       "bus_scale                  0.352012 -0.066173  0.033462  ...  0.013493   \n",
       "season                     0.011804 -0.009771  0.014046  ...  1.000000   \n",
       "day_of_week                0.000446  0.134466 -0.004145  ...  0.001661   \n",
       "time_of_day                0.028949  0.112072  0.007205  ... -0.019234   \n",
       "dur_walking                0.104188 -0.172004 -0.062055  ...  0.008394   \n",
       "dur_cycling                0.104216 -0.168252 -0.048913  ...  0.007259   \n",
       "dur_pt                     0.101251 -0.179751 -0.085715  ...  0.006450   \n",
       "dur_driving                0.092796 -0.180168 -0.010647  ...  0.005878   \n",
       "cost_pt                    0.265431 -0.164617  0.002479  ...  0.014335   \n",
       "cost_driving               0.077724 -0.095128  0.061612  ...  0.021511   \n",
       "pt_interchange             0.081932 -0.124904 -0.052309  ...  0.007016   \n",
       "\n",
       "                    day_of_week  time_of_day  dur_walking  dur_cycling  \\\n",
       "household_size_int     0.018340    -0.028490    -0.026578    -0.034637   \n",
       "household_chld         0.009722    -0.044751    -0.060556    -0.062998   \n",
       "household_Teen        -0.016250    -0.011899    -0.005484    -0.007253   \n",
       "household_Avgage      -0.048647    -0.025350    -0.018190    -0.020415   \n",
       "car_ownership         -0.000227    -0.007465     0.054362     0.041605   \n",
       "female                -0.023979    -0.024743    -0.093376    -0.094631   \n",
       "age                   -0.052642    -0.037333    -0.017356    -0.019937   \n",
       "driving_license        0.000446     0.028949     0.104188     0.104216   \n",
       "purpose                0.134466     0.112072    -0.172004    -0.168252   \n",
       "fueltype              -0.004145     0.007205    -0.062055    -0.048913   \n",
       "faretype              -0.013296    -0.040253    -0.127484    -0.130542   \n",
       "bus_scale              0.022864     0.056931     0.142969     0.148827   \n",
       "season                 0.001661    -0.019234     0.008394     0.007259   \n",
       "day_of_week            1.000000     0.086633    -0.014044    -0.014181   \n",
       "time_of_day            0.086633     1.000000     0.025629     0.028549   \n",
       "dur_walking           -0.014044     0.025629     1.000000     0.991605   \n",
       "dur_cycling           -0.014181     0.028549     0.991605     1.000000   \n",
       "dur_pt                -0.007286     0.014781     0.881599     0.875192   \n",
       "dur_driving           -0.053716    -0.005685     0.929542     0.937265   \n",
       "cost_pt               -0.028522     0.018242     0.585953     0.591062   \n",
       "cost_driving          -0.104807    -0.101026     0.453863     0.475861   \n",
       "pt_interchange         0.002662     0.021552     0.688515     0.687117   \n",
       "\n",
       "                      dur_pt  dur_driving   cost_pt  cost_driving  \\\n",
       "household_size_int  0.003078    -0.050135 -0.048503     -0.087331   \n",
       "household_chld     -0.054084    -0.070138 -0.077481     -0.070171   \n",
       "household_Teen      0.000403    -0.008634 -0.007989     -0.022765   \n",
       "household_Avgage   -0.026046    -0.035194 -0.209390     -0.035173   \n",
       "car_ownership       0.089080    -0.005998 -0.001434     -0.075234   \n",
       "female             -0.083673    -0.089864 -0.040872     -0.062175   \n",
       "age                -0.023694    -0.035551 -0.072593     -0.035586   \n",
       "driving_license     0.101251     0.092796  0.265431      0.077724   \n",
       "purpose            -0.179751    -0.180168 -0.164617     -0.095128   \n",
       "fueltype           -0.085715    -0.010647  0.002479      0.061612   \n",
       "faretype           -0.117199    -0.142523 -0.642711     -0.121847   \n",
       "bus_scale           0.122062     0.164204  0.703647      0.153353   \n",
       "season              0.006450     0.005878  0.014335      0.021511   \n",
       "day_of_week        -0.007286    -0.053716 -0.028522     -0.104807   \n",
       "time_of_day         0.014781    -0.005685  0.018242     -0.101026   \n",
       "dur_walking         0.881599     0.929542  0.585953      0.453863   \n",
       "dur_cycling         0.875192     0.937265  0.591062      0.475861   \n",
       "dur_pt              1.000000     0.818327  0.519676      0.337932   \n",
       "dur_driving         0.818327     1.000000  0.608445      0.574700   \n",
       "cost_pt             0.519676     0.608445  1.000000      0.401383   \n",
       "cost_driving        0.337932     0.574700  0.401383      1.000000   \n",
       "pt_interchange      0.735210     0.648180  0.573359      0.269406   \n",
       "\n",
       "                    pt_interchange  \n",
       "household_size_int       -0.011354  \n",
       "household_chld           -0.044084  \n",
       "household_Teen           -0.001334  \n",
       "household_Avgage         -0.023874  \n",
       "car_ownership             0.051679  \n",
       "female                   -0.072706  \n",
       "age                      -0.020616  \n",
       "driving_license           0.081932  \n",
       "purpose                  -0.124904  \n",
       "fueltype                 -0.052309  \n",
       "faretype                 -0.095296  \n",
       "bus_scale                 0.105282  \n",
       "season                    0.007016  \n",
       "day_of_week               0.002662  \n",
       "time_of_day               0.021552  \n",
       "dur_walking               0.688515  \n",
       "dur_cycling               0.687117  \n",
       "dur_pt                    0.735210  \n",
       "dur_driving               0.648180  \n",
       "cost_pt                   0.573359  \n",
       "cost_driving              0.269406  \n",
       "pt_interchange            1.000000  \n",
       "\n",
       "[22 rows x 22 columns]"
      ]
     },
     "execution_count": 5,
     "metadata": {},
     "output_type": "execute_result"
    }
   ],
   "source": [
    "X_train2.corr()"
   ]
  },
  {
   "cell_type": "code",
   "execution_count": 6,
   "metadata": {},
   "outputs": [
    {
     "data": {
      "image/png": "[encoded data removed]",
      "text/plain": [
       "<Figure size 1368x1080 with 2 Axes>"
      ]
     },
     "metadata": {
      "needs_background": "light"
     },
     "output_type": "display_data"
    }
   ],
   "source": [
    "df = X_train2\n",
    "f = plt.figure(figsize=(19, 15))\n",
    "plt.matshow(df.corr(), fignum=f.number)\n",
    "\n",
    "fontsize=18\n",
    "# mapping the columns\n",
    "\n",
    "plt.xticks(range(df.shape[1]), df.columns, fontsize=fontsize, rotation=90)\n",
    "plt.yticks(range(df.shape[1]), df.columns, fontsize=fontsize)\n",
    "cb = plt.colorbar()\n",
    "cb.ax.tick_params(labelsize=fontsize)\n",
    "plt.savefig('images/feature_correlation_matrix.tif',bbox_inches='tight',dpi = 300)\n",
    "# plt.title('Correlation Matrix', fontsize=16)"
   ]
  },
  {
   "cell_type": "markdown",
   "metadata": {},
   "source": [
    "# Loading functions"
   ]
  },
  {
   "cell_type": "code",
   "execution_count": 19,
   "metadata": {},
   "outputs": [],
   "source": [
    "def run_rf_XGBoost(X, y, random_seed=100, class_weight=None, n_est=100, resampling=None, list_categorical_data=None, random_seed_resample=None, params=None, model='RF'):\n",
    "    X_train, X_test, y_train, y_test = train_test_split(X, y, random_state=random_seed, stratify=y)\n",
    "    if model is 'RF':\n",
    "        clf = RandomForestClassifier(random_state=random_seed, class_weight=class_weight, n_estimators=n_est)\n",
    "    elif model is 'XGBoost':\n",
    "        clf = xgb.XGBClassifier(random_state=random_seed)\n",
    "\n",
    "    if params is not None:\n",
    "        clf.set_params(**params)\n",
    "        \n",
    "    #   create a oversampling object\n",
    "    if resampling is 'SMOTE':\n",
    "        sm = over_sampling.SMOTE(random_state=random_seed_resample)\n",
    "    elif resampling is 'SMOTENC':\n",
    "        sm = over_sampling.SMOTENC(random_state=random_seed_resample, categorical_features=list_categorical_data)\n",
    "    elif resampling is 'ADASYN': \n",
    "        sm = over_sampling.ADASYN(random_state=random_seed_resample)\n",
    "    elif resampling is 'BorderlineSMOTE':\n",
    "        sm = over_sampling.BorderlineSMOTE(random_state=random_seed_resample)\n",
    "    elif resampling is 'SVMSMOTE':\n",
    "        sm = over_sampling.SVMSMOTE(random_state=random_seed_resample)\n",
    "    elif resampling is 'KMeansSMOTE':\n",
    "        sm = over_sampling.KMeansSMOTE(random_state=random_seed_resample)\n",
    "    elif resampling is 'RandomOverSampler':\n",
    "        sm = over_sampling.RandomOverSampler(random_state=random_seed_resample)\n",
    "    \n",
    "    #   resample the training data (but not the testing data)\n",
    "    if resampling in ['SMOTE', 'SMOTENC', 'ADASYN', 'BorderlineSMOTE', 'SVMSMOTE', 'KMeansSMOTE', 'RandomOverSampler']:\n",
    "        X_train_smote, y_train_smote = sm.fit_resample(X_train, y_train)\n",
    "        X_train = pd.DataFrame(X_train_smote, columns=X_train.columns)\n",
    "        y_train = pd.Series(y_train_smote)\n",
    "        \n",
    "    clf.fit(X_train, y_train)\n",
    "    print()\n",
    "    print(\"**** Classification report:\")\n",
    "    print(classification_report(y_test, clf.predict(X_test)))\n",
    "    \n",
    "    print()\n",
    "    print(\"**** Confusion matrix:\")\n",
    "    print(confusion_matrix(y_test, clf.predict(X_test)))\n",
    "    \n",
    "    print()\n",
    "    print(\"**** Feature importance:\")\n",
    "    # feature importance\n",
    "    imp = rfpimp.importances(clf, X_test, y_test) # permutation\n",
    "    viz = rfpimp.plot_importances(imp)\n",
    "    viz.view()\n",
    "    \n",
    "    return clf, X_train, X_test, y_train, y_test, imp"
   ]
  },
  {
   "cell_type": "code",
   "execution_count": 7,
   "metadata": {},
   "outputs": [],
   "source": [
    "def print_result_cross_validate(scores):\n",
    "    '''Reformat and print the result of RF and XGBoost.\n",
    "    \n",
    "    This function takes the result of the cross_validate function.\n",
    "    '''\n",
    "    print(\"Cross validation result (format: average +/- std_dev)\")\n",
    "    print(\"Training accuracy: %0.4f (+/-%0.4f)\" % (scores['train_accuracy'].mean(),scores['train_accuracy'].std()))\n",
    "    print(\"Testing accuracy: %0.4f (+/-%0.4f)\" % (scores['test_accuracy'].mean(),scores['test_accuracy'].std()))\n",
    "    print(\"Macro-average F1: %0.4f (+/-%0.4f)\" % (scores['test_f1_macro'].mean(),scores['test_f1_macro'].std()))\n",
    "    print(\"Balanced accuracy: %0.4f (+/-%0.4f)\" % (scores['test_balanced_accuracy'].mean(), scores['test_balanced_accuracy'].std()))\n",
    "    print(\"Macro-average recall: %0.4f (+/-%0.4f)\" % (scores['test_recall_macro'].mean(), scores['test_recall_macro'].std()))\n",
    "    print(\"Macro-average precision: %0.4f (+/-%0.4f)\" % (scores['test_precision_macro'].mean(), scores['test_precision_macro'].std()))\n",
    "    print(\"Negative log-loss: %0.4f (+/-%0.4f)\" % (scores['test_neg_log_loss'].mean(), scores['test_neg_log_loss'].std()))"
   ]
  },
  {
   "cell_type": "markdown",
   "metadata": {},
   "source": [
    "# Hyperparameter tuning for RF and XGBoost"
   ]
  },
  {
   "cell_type": "markdown",
   "metadata": {},
   "source": [
    "The model hyperparameters will be tuned using the Hyperopt package. Cross validation is not used here as it is shown that the RF result is very stable. This reduces the computational cost of the hyperparameter tuning process."
   ]
  },
  {
   "cell_type": "code",
   "execution_count": 11,
   "metadata": {},
   "outputs": [],
   "source": [
    "import os\n",
    "os.environ['OMP_NUM_THREADS'] = \"1\"\n",
    "\n",
    "from hpsklearn import HyperoptEstimator, random_forest\n",
    "from hyperopt import tpe, hp"
   ]
  },
  {
   "cell_type": "code",
   "execution_count": 12,
   "metadata": {},
   "outputs": [],
   "source": [
    "# settings for cv\n",
    "random_seed_cv = 1001\n",
    "cv_fold=10\n",
    "\n",
    "max_evals=100\n",
    "\n",
    "# split data into train_hp and test_hp. Only used for hyperopt\n",
    "random_seed_split = 10\n",
    "X_train_hp, X_test_hp, y_train_hp, y_test_hp = train_test_split(X_train2, y_train, random_state=random_seed_split, stratify=y_train)"
   ]
  },
  {
   "cell_type": "markdown",
   "metadata": {},
   "source": [
    "## Tuning the RF"
   ]
  },
  {
   "cell_type": "code",
   "execution_count": 13,
   "metadata": {},
   "outputs": [
    {
     "name": "stdout",
     "output_type": "stream",
     "text": [
      "SCORE:                                                 \n",
      "0.7671763351287813                                     \n",
      "SCORE:                                                                              \n",
      "0.7716804425152013                                                                  \n",
      "SCORE:                                                                               \n",
      "0.7668353944354629                                                                   \n",
      "SCORE:                                                                               \n",
      "0.7663729178269035                                                                   \n",
      "SCORE:                                                                               \n",
      "0.7652042467215234                                                                   \n",
      "SCORE:                                                                               \n",
      "0.7592150540234701                                                                   \n",
      "SCORE:                                                                               \n",
      "0.7722159355070748                                                                   \n",
      "SCORE:                                                                               \n",
      "0.778619150480252                                                                    \n",
      "SCORE:                                                                               \n",
      "0.7843161591023378                                                                  \n",
      "SCORE:                                                                               \n",
      "0.7905001708200476                                                                   \n",
      "SCORE:                                                                                \n",
      "0.7748941650669328                                                                    \n",
      "SCORE:                                                                                \n",
      "0.7749427794330292                                                                    \n",
      "SCORE:                                                                                \n",
      "0.7742855371490336                                                                    \n",
      "SCORE:                                                                                \n",
      "0.7624043389951703                                                                    \n",
      "SCORE:                                                                                \n",
      "0.7778400107257445                                                                    \n",
      "SCORE:                                                                                \n",
      "0.8062278962296068                                                                    \n",
      "SCORE:                                                                                \n",
      "0.7917661477103831                                                                      \n",
      "SCORE:                                                                                  \n",
      "0.7775235787380844                                                                      \n",
      "SCORE:                                                                                  \n",
      "0.7566342843540927                                                                      \n",
      "SCORE:                                                                                  \n",
      "0.7919121745498756                                                                      \n",
      "SCORE:                                                                                  \n",
      "0.8046210912615293                                                                      \n",
      "SCORE:                                                                                  \n",
      "0.8042803106008716                                                                      \n",
      "SCORE:                                                                                  \n",
      "0.8049617533794748                                                                      \n",
      "SCORE:                                                                                  \n",
      "0.8049131864304633                                                                      \n",
      "SCORE:                                                                                  \n",
      "0.7834397491256883                                                                      \n",
      "SCORE:                                                                                  \n",
      "0.783877954114013                                                                       \n",
      "SCORE:                                                                                  \n",
      "0.7920340186761672                                                                      \n",
      "SCORE:                                                                                  \n",
      "0.8044750644220366                                                                      \n",
      "SCORE:                                                                                  \n",
      "0.7698300619101166                                                                      \n",
      "SCORE:                                                                                  \n",
      "0.7836345266553956                                                                      \n",
      "SCORE:                                                                                  \n",
      "0.7694648910865128                                                                      \n",
      "SCORE:                                                                                  \n",
      "0.7641087046150337                                                                      \n",
      "SCORE:                                                                                  \n",
      "0.7918148924734625                                                                      \n",
      "SCORE:                                                                                  \n",
      "0.8059844865523964                                                                      \n",
      "SCORE:                                                                                  \n",
      "0.770146606513353                                                                       \n",
      "SCORE:                                                                                  \n",
      "0.7647417167687438                                                                      \n",
      "SCORE:                                                                                  \n",
      "0.7784000598403609                                                                      \n",
      "SCORE:                                                                                  \n",
      "0.7839509645701914                                                                      \n",
      "SCORE:                                                                                  \n",
      "0.7721429843222523                                                                      \n",
      "SCORE:                                                                                  \n",
      "0.7666162445242158                                                                      \n",
      "SCORE:                                                                                  \n",
      "0.7654964841417116                                                                      \n",
      "SCORE:                                                                                  \n",
      "0.792131318533987                                                                       \n",
      "SCORE:                                                                                  \n",
      "0.805862766895952                                                                       \n",
      "SCORE:                                                                                  \n",
      "0.7834396602186544                                                                      \n",
      "SCORE:                                                                                  \n",
      "0.7715343089872684                                                                      \n",
      "SCORE:                                                                                  \n",
      "0.7758436447711164                                                                      \n",
      "SCORE:                                                                                  \n",
      "0.7680040892493851                                                                      \n",
      "SCORE:                                                                                  \n",
      "0.7919852976216302                                                                      \n",
      "SCORE:                                                                                  \n",
      "0.775234951654726                                                                       \n",
      "SCORE:                                                                                  \n",
      "0.7645226024203102                                                                      \n",
      "SCORE:                                                                                  \n",
      "0.7780103506754208                                                                      \n",
      "SCORE:                                                                                  \n",
      "0.7743584705524493                                                                      \n",
      "SCORE:                                                                                  \n",
      "0.8048888614660081                                                                      \n",
      "SCORE:                                                                                  \n",
      "0.7827092415186839                                                                      \n",
      "SCORE:                                                                                  \n",
      "0.7917905497276007                                                                      \n",
      "SCORE:                                                                                  \n",
      "0.7666893913045127                                                                      \n",
      "SCORE:                                                                                  \n",
      "0.8048402115370983                                                                      \n",
      "SCORE:                                                                                  \n",
      "0.7778644305243688                                                                      \n",
      "SCORE:                                                                                  \n",
      "0.7745288519920748                                                                      \n",
      "SCORE:                                                                                  \n",
      "0.768271835745322                                                                       \n",
      "SCORE:                                                                                  \n",
      "0.805205429777787                                                                       \n",
      "SCORE:                                                                                  \n",
      "0.7919121745498756                                                                      \n",
      "SCORE:                                                                                  \n",
      "0.7718995153736857                                                                      \n",
      "SCORE:                                                                                  \n",
      "0.7790816863601673                                                                      \n",
      "SCORE:                                                                                  \n",
      "0.7909383520998301                                                                      \n",
      "SCORE:                                                                                  \n",
      "0.8059601971507547                                                                      \n",
      "SCORE:                                                                                  \n",
      "0.8055704998400859                                                                      \n",
      "SCORE:                                                                                  \n",
      "0.8059114049705908                                                                      \n",
      "SCORE:                                                                                  \n",
      "0.782100708434954                                                                       \n",
      "SCORE:                                                                                  \n",
      "0.7920095870232716                                                                      \n",
      "SCORE:                                                                                  \n",
      "0.8059358366234864                                                                      \n",
      "SCORE:                                                                                  \n",
      "0.7707552877754725                                                                      \n",
      "SCORE:                                                                                  \n",
      "0.805254050071019                                                                       \n",
      "SCORE:                                                                                  \n",
      "0.7833179761250236                                                                      \n",
      "SCORE:                                                                                  \n",
      "0.7787165866621905                                                                      \n",
      "SCORE:                                                                                  \n",
      "0.7922773216649371                                                                      \n",
      "SCORE:                                                                                  \n",
      "0.7923748467539093                                                                      \n",
      "SCORE:                                                                                  \n",
      "0.8056923676749198                                                                      \n",
      "SCORE:                                                                                  \n",
      "0.7824416135654589                                                                      \n",
      "SCORE:                                                                                  \n",
      "0.8056679775119733                                                                      \n",
      "SCORE:                                                                                  \n",
      "0.7785461103883956                                                                      \n",
      "SCORE:                                                                                  \n",
      "0.7695866818685839                                                                      \n",
      "SCORE:                                                                                  \n",
      "0.7837805001506678                                                                      \n",
      "SCORE:                                                                                  \n",
      "0.7919365172957373                                                                      \n",
      "SCORE:                                                                                  \n",
      "0.8045723050085007                                                                      \n",
      "SCORE:                                                                                  \n",
      "0.768466731817741                                                                     \n",
      "SCORE:                                                                                \n",
      "0.7525441044086271                                                                    \n",
      "SCORE:                                                                                \n",
      "0.7835371023277284                                                                    \n",
      "SCORE:                                                                                \n",
      "0.7915470155805429                                                                    \n",
      "SCORE:                                                                                \n",
      "0.77292217742098                                                                      \n",
      "SCORE:                                                                                \n",
      "0.8063497166473562                                                                    \n",
      "SCORE:                                                                                \n",
      "0.7663729059726323                                                                    \n",
      "SCORE:                                                                                \n"
     ]
    },
    {
     "name": "stdout",
     "output_type": "stream",
     "text": [
      "0.7784487453320843                                                                    \n",
      "SCORE:                                                                                \n",
      "0.7752836964178051                                                                    \n",
      "SCORE:                                                                                \n",
      "0.7690753360270979                                                                    \n",
      "SCORE:                                                                                \n",
      "0.7911087868836757                                                                    \n",
      "SCORE:                                                                                \n",
      "0.8059356765908253                                                                    \n",
      "SCORE:                                                                                \n",
      "0.7829526926858436                                                                    \n",
      "SCORE:                                                                                \n",
      "0.7641330058709463                                                                    \n",
      "SCORE:                                                                                \n",
      "0.8053270012558414                                                                    \n",
      "100%|██████████| 100/100 [6:44:12<00:00, 242.53s/trial, best loss: -0.8063497166473562]\n",
      "The best model is: \n",
      "{'max_depth': 56.0, 'min_samples_leaf': 1.0, 'n_estimators': 450.0}\n"
     ]
    }
   ],
   "source": [
    "# Tune hyperparamters for RandomForestClassifier using hyperopt\n",
    "\n",
    "space={'max_depth': hp.quniform(\"max_depth\", 10, 100, 1),\n",
    "       'min_samples_leaf' : hp.quniform('min_samples_leaf', 1, 11, 1),\n",
    "       'n_estimators': hp.quniform(\"n_estimators\", 100, 500, 50)\n",
    "    }\n",
    "\n",
    "# Classifier:\n",
    "def hyperparameter_tuning_rf(space):\n",
    "    rf_clf=RandomForestClassifier(max_depth = int(space['max_depth']), \n",
    "                          min_samples_leaf = int(space['min_samples_leaf']),\n",
    "                          n_estimators = int(space['n_estimators']),\n",
    "                          )\n",
    "    skf = StratifiedKFold(n_splits=cv_fold, shuffle=True, random_state=random_seed_cv)\n",
    "    scores_rf = cross_validate(rf_clf, X_train_hp, y_train_hp, cv=skf, return_train_score=True, scoring=['accuracy'])\n",
    "    \n",
    "    accuracy = scores_rf['test_accuracy'].mean()\n",
    "\n",
    "    print (\"SCORE:\", accuracy)\n",
    "    #change the metric if you like\n",
    "    return {'loss': -accuracy, 'status': STATUS_OK }\n",
    "\n",
    "# the tuning process\n",
    "rf_trials = Trials()\n",
    "rf_best = fmin(fn=hyperparameter_tuning_rf,\n",
    "            space=space,\n",
    "            algo=tpe.suggest,\n",
    "            max_evals=max_evals,\n",
    "            trials=rf_trials)\n",
    "\n",
    "print(\"The best model is: \")\n",
    "print(rf_best)"
   ]
  },
  {
   "cell_type": "code",
   "execution_count": 14,
   "metadata": {},
   "outputs": [
    {
     "name": "stdout",
     "output_type": "stream",
     "text": [
      "avg best error: -0.8063497166473562\n"
     ]
    },
    {
     "data": {
      "image/png": "[encoded data removed]",
      "text/plain": [
       "<Figure size 432x288 with 1 Axes>"
      ]
     },
     "metadata": {
      "needs_background": "light"
     },
     "output_type": "display_data"
    }
   ],
   "source": [
    "# plot the optimisation history\n",
    "\n",
    "plotting.main_plot_history(rf_trials)"
   ]
  },
  {
   "cell_type": "code",
   "execution_count": null,
   "metadata": {},
   "outputs": [],
   "source": [
    "# output the model performance: accuracy, macro-average F1 score, macro-average recall"
   ]
  },
  {
   "cell_type": "markdown",
   "metadata": {},
   "source": [
    "## Tuning the XGBoost"
   ]
  },
  {
   "cell_type": "markdown",
   "metadata": {},
   "source": [
    "Here, hyperparameters are tuned using the Hyperopt package. A good blog on this package can be found [here](https://medium.com/analytics-vidhya/hyperparameter-tuning-hyperopt-bayesian-optimization-for-xgboost-and-neural-network-8aedf278a1c9).\n",
    "\n",
    "A list of important hyperparamters of XGBoost is as follows:\n",
    "\n",
    "- *max_depth*: default=6. Increasing this value will make the model more complex and more likely to overfit.\n",
    "- *min_child_height*: default=1. The larger min_child_weight is, the more conservative the algorithm will be.\n",
    "- *gamma*: default=0. Alias is min_split_loss. Minimum loss reduction required to make a further partition on a leaf node of the tree. The larger gamma is, the more conservative the algorithm will be.\n",
    "- *eta*: Step size shrinkage used in update to prevents overfitting. After each boosting step, we can directly get the weights of new features, and eta shrinks the feature weights to make the boosting process more conservative. The larger eta, the less likely to overfit. default=0.3. Range [0,1]\n",
    "- *n_estimators*: default=100."
   ]
  },
  {
   "cell_type": "code",
   "execution_count": 15,
   "metadata": {},
   "outputs": [
    {
     "name": "stdout",
     "output_type": "stream",
     "text": [
      "SCORE:                                                 \n",
      "0.7589230714701122                                     \n",
      "SCORE:                                                                              \n",
      "0.7589961293433753                                                                  \n",
      "SCORE:                                                                              \n",
      "0.7518383011027554                                                                  \n",
      "SCORE:                                                                              \n",
      "0.7608465870012228                                                                  \n",
      "SCORE:                                                                              \n",
      "0.7687833001295198                                                                  \n",
      "SCORE:                                                                              \n",
      "0.8006038328652082                                                                  \n",
      "SCORE:                                                                              \n",
      "0.783293473346501                                                                   \n",
      "SCORE:                                                                              \n",
      "0.7730680797906252                                                                  \n",
      "SCORE:                                                                              \n",
      "0.7715828581548732                                                                  \n",
      "SCORE:                                                                               \n",
      "0.7627940955771951                                                                   \n",
      "SCORE:                                                                                \n",
      "0.7640113988300782                                                                    \n",
      "SCORE:                                                                                \n",
      "0.7732141362657956                                                                    \n",
      "SCORE:                                                                                \n",
      "0.7585578117394745                                                                   \n",
      "SCORE:                                                                               \n",
      "0.779057438448475                                                                    \n",
      "SCORE:                                                                               \n",
      "0.7669816109432942                                                                   \n",
      "SCORE:                                                                               \n",
      "0.7515460103383468                                                                   \n",
      "SCORE:                                                                                \n",
      "0.777645019819156                                                                     \n",
      "SCORE:                                                                                \n",
      "0.7644740236170275                                                                   \n",
      "SCORE:                                                                               \n",
      "0.7538346314945699                                                                   \n",
      "SCORE:                                                                               \n",
      "0.7794469638722119                                                                   \n",
      "SCORE:                                                                               \n",
      "0.8049860724167942                                                                   \n",
      "SCORE:                                                                                \n",
      "0.8043774207903527                                                                    \n",
      "SCORE:                                                                                \n",
      "0.7995081840702779                                                                    \n",
      "SCORE:                                                                                \n",
      "0.8055705531843061                                                                    \n",
      "SCORE:                                                                                \n",
      "0.794736430949226                                                                     \n",
      "SCORE:                                                                                \n",
      "0.8070797797191913                                                                    \n",
      "SCORE:                                                                                \n",
      "0.7957588322025544                                                                    \n",
      "SCORE:                                                                                \n",
      "0.8074206255783402                                                                    \n",
      "SCORE:                                                                                \n",
      "0.738350363179306                                                                     \n",
      "SCORE:                                                                                \n",
      "0.8044994486578476                                                                    \n",
      "SCORE:                                                                                \n",
      "0.7886253881977454                                                                    \n",
      "SCORE:                                                                                \n",
      "0.7901594257222037                                                                    \n",
      "SCORE:                                                                                \n",
      "0.7974874990783305                                                                    \n",
      "SCORE:                                                                                \n",
      "0.7604811968736019                                                                    \n",
      "SCORE:                                                                                \n",
      "0.7984124641497204                                                                      \n",
      "SCORE:                                                                                  \n",
      "0.7971954098365319                                                                      \n",
      "SCORE:                                                                                  \n",
      "0.7556120549876965                                                                      \n",
      "SCORE:                                                                                  \n",
      "0.7843891339957025                                                                     \n",
      "SCORE:                                                                                  \n",
      "0.765910340457039                                                                       \n",
      "SCORE:                                                                                  \n",
      "0.7775719915815709                                                                      \n",
      "SCORE:                                                                                  \n",
      "0.7907677928461371                                                                      \n",
      "SCORE:                                                                                  \n",
      "0.7949309891749167                                                                      \n",
      "SCORE:                                                                                  \n",
      "0.7835124928607652                                                                      \n",
      "SCORE:                                                                                  \n",
      "0.7682476293235787                                                                      \n",
      "SCORE:                                                                                  \n",
      "0.7675169557567779                                                                      \n",
      "SCORE:                                                                                  \n",
      "0.7723376670177903                                                                     \n",
      "SCORE:                                                                                 \n",
      "0.7737498070717367                                                                     \n",
      "SCORE:                                                                                  \n",
      "0.7792763216386207                                                                      \n",
      "SCORE:                                                                                  \n",
      "0.7426353739986994                                                                      \n",
      "SCORE:                                                                                  \n",
      "0.7931781929301601                                                                     \n",
      "SCORE:                                                                                  \n",
      "0.7609195678217231                                                                      \n",
      "SCORE:                                                                                  \n",
      "0.7514973485551659                                                                     \n",
      "SCORE:                                                                                 \n",
      "0.7672006778746431                                                                   \n",
      "SCORE:                                                                                 \n",
      "0.7845356527874489                                                                     \n",
      "SCORE:                                                                                 \n",
      "0.7785707020739523                                                                     \n",
      "SCORE:                                                                                 \n",
      "0.7674929982747294                                                                     \n",
      "SCORE:                                                                                 \n",
      "0.7914496623785026                                                                     \n",
      "SCORE:                                                                                 \n",
      "0.7815163225016116                                                                     \n",
      "SCORE:                                                                                  \n",
      "0.7840726486638221                                                                      \n",
      "SCORE:                                                                                  \n",
      "0.8000196484544757                                                                      \n",
      "SCORE:                                                                                  \n",
      "0.786969974790707                                                                       \n",
      "SCORE:                                                                                  \n",
      "0.7686369117347565                                                                      \n",
      "SCORE:                                                                                  \n",
      "0.7794228345032315                                                                      \n",
      "SCORE:                                                                                  \n",
      "0.7795686598201138                                                                      \n",
      "SCORE:                                                                                  \n",
      "0.7697326612909917                                                                      \n",
      "SCORE:                                                                                  \n",
      "0.8043530009917284                                                                      \n",
      "SCORE:                                                                                  \n",
      "0.8078103643789584                                                                      \n",
      "SCORE:                                                                                  \n",
      "0.8056191616232671                                                                      \n",
      "SCORE:                                                                                  \n",
      "0.8064467082941252                                                                      \n",
      "SCORE:                                                                                  \n",
      "0.8011634315175199                                                                      \n",
      "SCORE:                                                                                  \n",
      "0.7876272289289736                                                                      \n",
      "SCORE:                                                                                  \n",
      "0.8060086692655972                                                                      \n",
      "SCORE:                                                                                  \n",
      "0.7628915436134047                                                                      \n",
      "SCORE:                                                                                  \n",
      "0.7917174148015749                                                                    \n",
      "SCORE:                                                                                \n",
      "0.796002313005392                                                                     \n",
      "SCORE:                                                                                \n",
      "0.7974875346411439                                                                    \n",
      "SCORE:                                                                                \n",
      "0.7901591293654242                                                                    \n",
      "SCORE:                                                                                \n",
      "0.8017483153302518                                                                    \n",
      "SCORE:                                                                                \n",
      "0.7961729493118477                                                                    \n",
      "SCORE:                                                                                \n",
      "0.7795684642246394                                                                    \n",
      "SCORE:                                                                                \n",
      "0.7868236753029774                                                                    \n",
      "SCORE:                                                                                \n",
      "0.8027947748269335                                                                    \n",
      "SCORE:                                                                                \n",
      "0.774650470887214                                                                     \n",
      "SCORE:                                                                                \n",
      "0.7876273178360076                                                                    \n",
      "SCORE:                                                                                \n",
      "0.7705120262766518                                                                    \n",
      "SCORE:                                                                                \n",
      "0.7957344894566927                                                                    \n",
      "SCORE:                                                                                \n",
      "0.7737740372020222                                                                    \n",
      "SCORE:                                                                                \n",
      "0.7800796500334647                                                                    \n",
      "SCORE:                                                                                \n",
      "0.7771337747389749                                                                    \n",
      "SCORE:                                                                                \n",
      "0.7922530322632958                                                                    \n",
      "SCORE:                                                                                \n",
      "0.7751617396759374                                                                    \n",
      "SCORE:                                                                                \n",
      "0.8028437151854874                                                                    \n",
      "SCORE:                                                                                \n",
      "0.7830258513204117                                                                    \n",
      "SCORE:                                                                                \n"
     ]
    },
    {
     "name": "stdout",
     "output_type": "stream",
     "text": [
      "0.7611872965362532                                                                    \n",
      "SCORE:                                                                                \n",
      "0.7832936393062975                                                                   \n",
      "SCORE:                                                                                \n",
      "0.8038418922356657                                                                    \n",
      "SCORE:                                                                                \n",
      "0.7648393070562075                                                                    \n",
      "SCORE:                                                                                \n",
      "0.7976823240251225                                                                    \n",
      "SCORE:                                                                                \n",
      "0.7850951566055911                                                                    \n",
      "SCORE:                                                                                \n",
      "0.7670787033513684                                                                    \n",
      "100%|██████████| 100/100 [3:04:17<00:00, 110.57s/trial, best loss: -0.8078103643789584]\n",
      "The best XGBoost model is: \n",
      "{'eta': 0.6024986478505462, 'gamma': 0.07829790662738734, 'max_depth': 11.0, 'min_child_weight': 4.0, 'n_estimators': 450.0}\n"
     ]
    }
   ],
   "source": [
    "# parameter space\n",
    "space={'max_depth': hp.quniform(\"max_depth\", 1, 11, 1),\n",
    "       'gamma': hp.uniform ('gamma', 0,5),\n",
    "       'min_child_weight' : hp.quniform('min_child_weight', 1, 11, 1),\n",
    "       'eta': hp.uniform('eta', 0.0, 1.0),\n",
    "       'n_estimators': hp.quniform('n_estimators', 100, 500, 50),\n",
    "    }\n",
    "\n",
    "# Classifier:\n",
    "def hyperparameter_tuning_xgb(space):\n",
    "    xgb_clf=xgb.XGBClassifier(eta =space['eta'], \n",
    "                          max_depth = int(space['max_depth']), \n",
    "                          gamma = space['gamma'],\n",
    "                          min_child_weight=space['min_child_weight']\n",
    "                          )\n",
    "    skf = StratifiedKFold(n_splits=cv_fold, shuffle=True, random_state=random_seed_cv)\n",
    "    scores_xgboost = cross_validate(xgb_clf, X_train_hp, y_train_hp, cv=skf, return_train_score=True, scoring=['accuracy'])\n",
    "    \n",
    "    accuracy = scores_xgboost['test_accuracy'].mean()\n",
    "    print (\"SCORE:\", accuracy)\n",
    "    # using accuracy as the metric\n",
    "    return {'loss': -accuracy, 'status': STATUS_OK }\n",
    "\n",
    "# the tuning process\n",
    "xgb_trials = Trials()\n",
    "xgb_best = fmin(fn=hyperparameter_tuning_xgb,\n",
    "            space=space,\n",
    "            algo=tpe.suggest,\n",
    "            max_evals=100,\n",
    "            trials=xgb_trials)\n",
    "\n",
    "print(\"The best XGBoost model is: \")\n",
    "print(xgb_best)"
   ]
  },
  {
   "cell_type": "code",
   "execution_count": 16,
   "metadata": {},
   "outputs": [
    {
     "name": "stdout",
     "output_type": "stream",
     "text": [
      "avg best error: -0.8078103643789584\n"
     ]
    },
    {
     "data": {
      "image/png": "[encoded data removed]",
      "text/plain": [
       "<Figure size 432x288 with 1 Axes>"
      ]
     },
     "metadata": {
      "needs_background": "light"
     },
     "output_type": "display_data"
    }
   ],
   "source": [
    "plotting.main_plot_history(xgb_trials)"
   ]
  },
  {
   "cell_type": "code",
   "execution_count": 17,
   "metadata": {},
   "outputs": [
    {
     "data": {
      "text/plain": [
       "['hyperopt_trials/XGB_trials.pkl']"
      ]
     },
     "execution_count": 17,
     "metadata": {},
     "output_type": "execute_result"
    }
   ],
   "source": [
    "# save the trials objects\n",
    "# you can find out the best model and the accuracy history from the Trials objects\n",
    "import joblib\n",
    "joblib.dump(rf_trials, 'hyperopt_trials/RF_trials.pkl')\n",
    "joblib.dump(xgb_trials, 'hyperopt_trials/XGB_trials.pkl')"
   ]
  },
  {
   "cell_type": "markdown",
   "metadata": {},
   "source": [
    "# Random Forest Model"
   ]
  },
  {
   "cell_type": "markdown",
   "metadata": {},
   "source": [
    "## Plain RF"
   ]
  },
  {
   "cell_type": "markdown",
   "metadata": {},
   "source": [
    "A 10-fold standard cross-validation is used.\n",
    "\n",
    "The metrics are accuracy, macro-average F1, and log-loss.\n",
    "\n",
    "The code for cross-validation can be found [here](https://github.com/huanfachen/data_science_code_collection/blob/master/sklearn/cross_validation.ipynb)."
   ]
  },
  {
   "cell_type": "code",
   "execution_count": 12,
   "metadata": {},
   "outputs": [],
   "source": [
    "# hyperparameters in the RF (obtained in Section 4.1)\n",
    "rf_n_estimators = 450\n",
    "rf_max_depth = 56\n",
    "rf_min_samples_leaf = 1\n",
    "\n",
    "cv_fold=10\n",
    "\n",
    "# random seed for different procedures\n",
    "random_seed_cv=10\n",
    "random_seed_rf=1001\n",
    "random_seed_resample=12\n",
    "\n",
    "rf_params = {'max_depth':rf_max_depth, 'min_samples_leaf':rf_min_samples_leaf, 'n_estimators':rf_n_estimators, 'random_state':random_seed_rf}\n",
    "\n",
    "rdnsta=1001"
   ]
  },
  {
   "cell_type": "code",
   "execution_count": 14,
   "metadata": {},
   "outputs": [
    {
     "name": "stdout",
     "output_type": "stream",
     "text": [
      "Cross validation splitter:  StratifiedKFold(n_splits=10, random_state=10, shuffle=True)\n",
      "Cross validation result (format: average +/- std_dev)\n",
      "Training accuracy: 1.0000 (+/-0.0000)\n",
      "Testing accuracy: 0.8205 (+/-0.0046)\n",
      "Macro-average F1: 0.6479 (+/-0.0063)\n",
      "Balanced accuracy: 0.6355 (+/-0.0045)\n",
      "Macro-average recall: 0.6355 (+/-0.0045)\n",
      "Macro-average precision: 0.8219 (+/-0.0217)\n",
      "Negative log-loss: -0.4998 (+/-0.0164)\n"
     ]
    }
   ],
   "source": [
    "# Cross validation of Model 2 with default values of max_depth and max_samples\n",
    "# the metrics: https://scikit-learn.org/stable/modules/model_evaluation.html#scoring-parameter\n",
    "skf = StratifiedKFold(n_splits=cv_fold, shuffle=True, random_state=random_seed_cv)\n",
    "print(\"Cross validation splitter: \", skf)\n",
    "\n",
    "rf = RandomForestClassifier(criterion='gini', \n",
    "                       n_estimators=rf_n_estimators,\n",
    "                       max_depth=rf_max_depth,\n",
    "                       min_samples_leaf=rf_min_samples_leaf,\n",
    "                       random_state= random_seed_rf,\n",
    "                       n_jobs=-1)\n",
    "# scores = cross_validate(rf, X_train2, y_train, cv=skf, return_train_score=True, scoring=['f1_macro', 'neg_log_loss', 'accuracy', 'balanced_accuracy', 'average_precision'])\n",
    "\n",
    "scores = cross_validate(rf, X_train2, y_train, cv=skf, return_train_score=True, scoring=['f1_macro', 'neg_log_loss', 'accuracy', 'balanced_accuracy', 'recall_macro', 'precision_macro'])\n",
    "\n",
    "print_result_cross_validate(scores)"
   ]
  },
  {
   "cell_type": "markdown",
   "metadata": {},
   "source": [
    "## RF with SMOTE-NC"
   ]
  },
  {
   "cell_type": "markdown",
   "metadata": {},
   "source": [
    "The RF with SMOTE-NC is trained using a pipeline from the imblearn package. Details can be found [here](https://github.com/huanfachen/data_science_code_collection/blob/master/sklearn/cross_validation.ipynb)"
   ]
  },
  {
   "cell_type": "code",
   "execution_count": 15,
   "metadata": {},
   "outputs": [
    {
     "name": "stdout",
     "output_type": "stream",
     "text": [
      "Cross validation splitter:  StratifiedKFold(n_splits=10, random_state=10, shuffle=True)\n"
     ]
    },
    {
     "name": "stderr",
     "output_type": "stream",
     "text": [
      "C:\\Users\\Huanfa Chen\\Anaconda3\\envs\\test_tf\\lib\\site-packages\\sklearn\\utils\\deprecation.py:87: FutureWarning: Function safe_indexing is deprecated; safe_indexing is deprecated in version 0.22 and will be removed in version 0.24.\n",
      "  warnings.warn(msg, category=FutureWarning)\n",
      "C:\\Users\\Huanfa Chen\\Anaconda3\\envs\\test_tf\\lib\\site-packages\\sklearn\\utils\\deprecation.py:87: FutureWarning: Function safe_indexing is deprecated; safe_indexing is deprecated in version 0.22 and will be removed in version 0.24.\n",
      "  warnings.warn(msg, category=FutureWarning)\n",
      "C:\\Users\\Huanfa Chen\\Anaconda3\\envs\\test_tf\\lib\\site-packages\\sklearn\\utils\\deprecation.py:87: FutureWarning: Function safe_indexing is deprecated; safe_indexing is deprecated in version 0.22 and will be removed in version 0.24.\n",
      "  warnings.warn(msg, category=FutureWarning)\n",
      "C:\\Users\\Huanfa Chen\\Anaconda3\\envs\\test_tf\\lib\\site-packages\\sklearn\\utils\\deprecation.py:87: FutureWarning: Function safe_indexing is deprecated; safe_indexing is deprecated in version 0.22 and will be removed in version 0.24.\n",
      "  warnings.warn(msg, category=FutureWarning)\n",
      "C:\\Users\\Huanfa Chen\\Anaconda3\\envs\\test_tf\\lib\\site-packages\\sklearn\\utils\\deprecation.py:87: FutureWarning: Function safe_indexing is deprecated; safe_indexing is deprecated in version 0.22 and will be removed in version 0.24.\n",
      "  warnings.warn(msg, category=FutureWarning)\n",
      "C:\\Users\\Huanfa Chen\\Anaconda3\\envs\\test_tf\\lib\\site-packages\\sklearn\\utils\\deprecation.py:87: FutureWarning: Function safe_indexing is deprecated; safe_indexing is deprecated in version 0.22 and will be removed in version 0.24.\n",
      "  warnings.warn(msg, category=FutureWarning)\n",
      "C:\\Users\\Huanfa Chen\\Anaconda3\\envs\\test_tf\\lib\\site-packages\\sklearn\\utils\\deprecation.py:87: FutureWarning: Function safe_indexing is deprecated; safe_indexing is deprecated in version 0.22 and will be removed in version 0.24.\n",
      "  warnings.warn(msg, category=FutureWarning)\n",
      "C:\\Users\\Huanfa Chen\\Anaconda3\\envs\\test_tf\\lib\\site-packages\\sklearn\\utils\\deprecation.py:87: FutureWarning: Function safe_indexing is deprecated; safe_indexing is deprecated in version 0.22 and will be removed in version 0.24.\n",
      "  warnings.warn(msg, category=FutureWarning)\n",
      "C:\\Users\\Huanfa Chen\\Anaconda3\\envs\\test_tf\\lib\\site-packages\\sklearn\\utils\\deprecation.py:87: FutureWarning: Function safe_indexing is deprecated; safe_indexing is deprecated in version 0.22 and will be removed in version 0.24.\n",
      "  warnings.warn(msg, category=FutureWarning)\n",
      "C:\\Users\\Huanfa Chen\\Anaconda3\\envs\\test_tf\\lib\\site-packages\\sklearn\\utils\\deprecation.py:87: FutureWarning: Function safe_indexing is deprecated; safe_indexing is deprecated in version 0.22 and will be removed in version 0.24.\n",
      "  warnings.warn(msg, category=FutureWarning)\n",
      "C:\\Users\\Huanfa Chen\\Anaconda3\\envs\\test_tf\\lib\\site-packages\\sklearn\\utils\\deprecation.py:87: FutureWarning: Function safe_indexing is deprecated; safe_indexing is deprecated in version 0.22 and will be removed in version 0.24.\n",
      "  warnings.warn(msg, category=FutureWarning)\n",
      "C:\\Users\\Huanfa Chen\\Anaconda3\\envs\\test_tf\\lib\\site-packages\\sklearn\\utils\\deprecation.py:87: FutureWarning: Function safe_indexing is deprecated; safe_indexing is deprecated in version 0.22 and will be removed in version 0.24.\n",
      "  warnings.warn(msg, category=FutureWarning)\n",
      "C:\\Users\\Huanfa Chen\\Anaconda3\\envs\\test_tf\\lib\\site-packages\\sklearn\\utils\\deprecation.py:87: FutureWarning: Function safe_indexing is deprecated; safe_indexing is deprecated in version 0.22 and will be removed in version 0.24.\n",
      "  warnings.warn(msg, category=FutureWarning)\n",
      "C:\\Users\\Huanfa Chen\\Anaconda3\\envs\\test_tf\\lib\\site-packages\\sklearn\\utils\\deprecation.py:87: FutureWarning: Function safe_indexing is deprecated; safe_indexing is deprecated in version 0.22 and will be removed in version 0.24.\n",
      "  warnings.warn(msg, category=FutureWarning)\n",
      "C:\\Users\\Huanfa Chen\\Anaconda3\\envs\\test_tf\\lib\\site-packages\\sklearn\\utils\\deprecation.py:87: FutureWarning: Function safe_indexing is deprecated; safe_indexing is deprecated in version 0.22 and will be removed in version 0.24.\n",
      "  warnings.warn(msg, category=FutureWarning)\n",
      "C:\\Users\\Huanfa Chen\\Anaconda3\\envs\\test_tf\\lib\\site-packages\\sklearn\\utils\\deprecation.py:87: FutureWarning: Function safe_indexing is deprecated; safe_indexing is deprecated in version 0.22 and will be removed in version 0.24.\n",
      "  warnings.warn(msg, category=FutureWarning)\n",
      "C:\\Users\\Huanfa Chen\\Anaconda3\\envs\\test_tf\\lib\\site-packages\\sklearn\\utils\\deprecation.py:87: FutureWarning: Function safe_indexing is deprecated; safe_indexing is deprecated in version 0.22 and will be removed in version 0.24.\n",
      "  warnings.warn(msg, category=FutureWarning)\n",
      "C:\\Users\\Huanfa Chen\\Anaconda3\\envs\\test_tf\\lib\\site-packages\\sklearn\\utils\\deprecation.py:87: FutureWarning: Function safe_indexing is deprecated; safe_indexing is deprecated in version 0.22 and will be removed in version 0.24.\n",
      "  warnings.warn(msg, category=FutureWarning)\n",
      "C:\\Users\\Huanfa Chen\\Anaconda3\\envs\\test_tf\\lib\\site-packages\\sklearn\\utils\\deprecation.py:87: FutureWarning: Function safe_indexing is deprecated; safe_indexing is deprecated in version 0.22 and will be removed in version 0.24.\n",
      "  warnings.warn(msg, category=FutureWarning)\n",
      "C:\\Users\\Huanfa Chen\\Anaconda3\\envs\\test_tf\\lib\\site-packages\\sklearn\\utils\\deprecation.py:87: FutureWarning: Function safe_indexing is deprecated; safe_indexing is deprecated in version 0.22 and will be removed in version 0.24.\n",
      "  warnings.warn(msg, category=FutureWarning)\n"
     ]
    },
    {
     "name": "stdout",
     "output_type": "stream",
     "text": [
      "Cross validation result (format: average +/- std_dev)\n",
      "Training accuracy: 1.0000 (+/-0.0000)\n",
      "Testing accuracy: 0.8124 (+/-0.0050)\n",
      "Macro-average F1: 0.6989 (+/-0.0128)\n",
      "Balanced accuracy: 0.6936 (+/-0.0100)\n",
      "Macro-average recall: 0.6936 (+/-0.0100)\n",
      "Macro-average precision: 0.7174 (+/-0.0187)\n",
      "Negative log-loss: -0.5438 (+/-0.0175)\n"
     ]
    }
   ],
   "source": [
    "from imblearn.pipeline import Pipeline\n",
    "\n",
    "# CV Splitter\n",
    "skf = StratifiedKFold(n_splits=cv_fold, shuffle=True, random_state=random_seed_cv)\n",
    "print(\"Cross validation splitter: \", skf)\n",
    "\n",
    "# SMOTENC\n",
    "list_categorical_var = ['household_size_int', 'household_chld', 'household_Teen',\n",
    "       'household_Avgage', 'car_ownership', 'female', 'age_grp',\n",
    "       'driving_license', 'purpose', 'fueltype', 'faretype', 'bus_scale',\n",
    "       'season', 'day_of_week', 'time_of_day']\n",
    "# creating a mask for categorical_var. The mask consists of TRUE and FALSE\n",
    "mask_cateogrical_var = [e in list_categorical_var for e in X_train2.columns]\n",
    "smtnc = over_sampling.SMOTENC(random_state=random_seed_resample, categorical_features=mask_cateogrical_var)\n",
    "\n",
    "# RF\n",
    "rf = RandomForestClassifier(criterion='gini', \n",
    "                       n_estimators=rf_n_estimators,\n",
    "                       max_depth=rf_max_depth,\n",
    "                       min_samples_leaf=rf_min_samples_leaf,\n",
    "                       random_state= random_seed_rf,\n",
    "                       n_jobs=-1)\n",
    "\n",
    "# pipeline\n",
    "ppl_smt_rf = Pipeline([('smt', smtnc), ('rf', rf)])\n",
    "\n",
    "\n",
    "scores_stmnc = cross_validate(ppl_smt_rf, X_train2, y_train, cv=skf, return_train_score=True, scoring=['f1_macro', 'neg_log_loss', 'accuracy', 'balanced_accuracy', 'recall_macro', 'precision_macro'])\n",
    "\n",
    "print_result_cross_validate(scores_stmnc)"
   ]
  },
  {
   "cell_type": "markdown",
   "metadata": {},
   "source": [
    "## RF with ADASYN"
   ]
  },
  {
   "cell_type": "code",
   "execution_count": 16,
   "metadata": {},
   "outputs": [
    {
     "name": "stdout",
     "output_type": "stream",
     "text": [
      "Cross validation splitter:  StratifiedKFold(n_splits=10, random_state=10, shuffle=True)\n"
     ]
    },
    {
     "name": "stderr",
     "output_type": "stream",
     "text": [
      "C:\\Users\\Huanfa Chen\\Anaconda3\\envs\\test_tf\\lib\\site-packages\\sklearn\\utils\\deprecation.py:87: FutureWarning: Function safe_indexing is deprecated; safe_indexing is deprecated in version 0.22 and will be removed in version 0.24.\n",
      "  warnings.warn(msg, category=FutureWarning)\n",
      "C:\\Users\\Huanfa Chen\\Anaconda3\\envs\\test_tf\\lib\\site-packages\\sklearn\\utils\\deprecation.py:87: FutureWarning: Function safe_indexing is deprecated; safe_indexing is deprecated in version 0.22 and will be removed in version 0.24.\n",
      "  warnings.warn(msg, category=FutureWarning)\n",
      "C:\\Users\\Huanfa Chen\\Anaconda3\\envs\\test_tf\\lib\\site-packages\\sklearn\\utils\\deprecation.py:87: FutureWarning: Function safe_indexing is deprecated; safe_indexing is deprecated in version 0.22 and will be removed in version 0.24.\n",
      "  warnings.warn(msg, category=FutureWarning)\n",
      "C:\\Users\\Huanfa Chen\\Anaconda3\\envs\\test_tf\\lib\\site-packages\\sklearn\\utils\\deprecation.py:87: FutureWarning: Function safe_indexing is deprecated; safe_indexing is deprecated in version 0.22 and will be removed in version 0.24.\n",
      "  warnings.warn(msg, category=FutureWarning)\n",
      "C:\\Users\\Huanfa Chen\\Anaconda3\\envs\\test_tf\\lib\\site-packages\\sklearn\\utils\\deprecation.py:87: FutureWarning: Function safe_indexing is deprecated; safe_indexing is deprecated in version 0.22 and will be removed in version 0.24.\n",
      "  warnings.warn(msg, category=FutureWarning)\n",
      "C:\\Users\\Huanfa Chen\\Anaconda3\\envs\\test_tf\\lib\\site-packages\\sklearn\\utils\\deprecation.py:87: FutureWarning: Function safe_indexing is deprecated; safe_indexing is deprecated in version 0.22 and will be removed in version 0.24.\n",
      "  warnings.warn(msg, category=FutureWarning)\n",
      "C:\\Users\\Huanfa Chen\\Anaconda3\\envs\\test_tf\\lib\\site-packages\\sklearn\\utils\\deprecation.py:87: FutureWarning: Function safe_indexing is deprecated; safe_indexing is deprecated in version 0.22 and will be removed in version 0.24.\n",
      "  warnings.warn(msg, category=FutureWarning)\n",
      "C:\\Users\\Huanfa Chen\\Anaconda3\\envs\\test_tf\\lib\\site-packages\\sklearn\\utils\\deprecation.py:87: FutureWarning: Function safe_indexing is deprecated; safe_indexing is deprecated in version 0.22 and will be removed in version 0.24.\n",
      "  warnings.warn(msg, category=FutureWarning)\n",
      "C:\\Users\\Huanfa Chen\\Anaconda3\\envs\\test_tf\\lib\\site-packages\\sklearn\\utils\\deprecation.py:87: FutureWarning: Function safe_indexing is deprecated; safe_indexing is deprecated in version 0.22 and will be removed in version 0.24.\n",
      "  warnings.warn(msg, category=FutureWarning)\n",
      "C:\\Users\\Huanfa Chen\\Anaconda3\\envs\\test_tf\\lib\\site-packages\\sklearn\\utils\\deprecation.py:87: FutureWarning: Function safe_indexing is deprecated; safe_indexing is deprecated in version 0.22 and will be removed in version 0.24.\n",
      "  warnings.warn(msg, category=FutureWarning)\n",
      "C:\\Users\\Huanfa Chen\\Anaconda3\\envs\\test_tf\\lib\\site-packages\\sklearn\\utils\\deprecation.py:87: FutureWarning: Function safe_indexing is deprecated; safe_indexing is deprecated in version 0.22 and will be removed in version 0.24.\n",
      "  warnings.warn(msg, category=FutureWarning)\n",
      "C:\\Users\\Huanfa Chen\\Anaconda3\\envs\\test_tf\\lib\\site-packages\\sklearn\\utils\\deprecation.py:87: FutureWarning: Function safe_indexing is deprecated; safe_indexing is deprecated in version 0.22 and will be removed in version 0.24.\n",
      "  warnings.warn(msg, category=FutureWarning)\n",
      "C:\\Users\\Huanfa Chen\\Anaconda3\\envs\\test_tf\\lib\\site-packages\\sklearn\\utils\\deprecation.py:87: FutureWarning: Function safe_indexing is deprecated; safe_indexing is deprecated in version 0.22 and will be removed in version 0.24.\n",
      "  warnings.warn(msg, category=FutureWarning)\n",
      "C:\\Users\\Huanfa Chen\\Anaconda3\\envs\\test_tf\\lib\\site-packages\\sklearn\\utils\\deprecation.py:87: FutureWarning: Function safe_indexing is deprecated; safe_indexing is deprecated in version 0.22 and will be removed in version 0.24.\n",
      "  warnings.warn(msg, category=FutureWarning)\n",
      "C:\\Users\\Huanfa Chen\\Anaconda3\\envs\\test_tf\\lib\\site-packages\\sklearn\\utils\\deprecation.py:87: FutureWarning: Function safe_indexing is deprecated; safe_indexing is deprecated in version 0.22 and will be removed in version 0.24.\n",
      "  warnings.warn(msg, category=FutureWarning)\n",
      "C:\\Users\\Huanfa Chen\\Anaconda3\\envs\\test_tf\\lib\\site-packages\\sklearn\\utils\\deprecation.py:87: FutureWarning: Function safe_indexing is deprecated; safe_indexing is deprecated in version 0.22 and will be removed in version 0.24.\n",
      "  warnings.warn(msg, category=FutureWarning)\n",
      "C:\\Users\\Huanfa Chen\\Anaconda3\\envs\\test_tf\\lib\\site-packages\\sklearn\\utils\\deprecation.py:87: FutureWarning: Function safe_indexing is deprecated; safe_indexing is deprecated in version 0.22 and will be removed in version 0.24.\n",
      "  warnings.warn(msg, category=FutureWarning)\n",
      "C:\\Users\\Huanfa Chen\\Anaconda3\\envs\\test_tf\\lib\\site-packages\\sklearn\\utils\\deprecation.py:87: FutureWarning: Function safe_indexing is deprecated; safe_indexing is deprecated in version 0.22 and will be removed in version 0.24.\n",
      "  warnings.warn(msg, category=FutureWarning)\n",
      "C:\\Users\\Huanfa Chen\\Anaconda3\\envs\\test_tf\\lib\\site-packages\\sklearn\\utils\\deprecation.py:87: FutureWarning: Function safe_indexing is deprecated; safe_indexing is deprecated in version 0.22 and will be removed in version 0.24.\n",
      "  warnings.warn(msg, category=FutureWarning)\n",
      "C:\\Users\\Huanfa Chen\\Anaconda3\\envs\\test_tf\\lib\\site-packages\\sklearn\\utils\\deprecation.py:87: FutureWarning: Function safe_indexing is deprecated; safe_indexing is deprecated in version 0.22 and will be removed in version 0.24.\n",
      "  warnings.warn(msg, category=FutureWarning)\n",
      "C:\\Users\\Huanfa Chen\\Anaconda3\\envs\\test_tf\\lib\\site-packages\\sklearn\\utils\\deprecation.py:87: FutureWarning: Function safe_indexing is deprecated; safe_indexing is deprecated in version 0.22 and will be removed in version 0.24.\n",
      "  warnings.warn(msg, category=FutureWarning)\n",
      "C:\\Users\\Huanfa Chen\\Anaconda3\\envs\\test_tf\\lib\\site-packages\\sklearn\\utils\\deprecation.py:87: FutureWarning: Function safe_indexing is deprecated; safe_indexing is deprecated in version 0.22 and will be removed in version 0.24.\n",
      "  warnings.warn(msg, category=FutureWarning)\n",
      "C:\\Users\\Huanfa Chen\\Anaconda3\\envs\\test_tf\\lib\\site-packages\\sklearn\\utils\\deprecation.py:87: FutureWarning: Function safe_indexing is deprecated; safe_indexing is deprecated in version 0.22 and will be removed in version 0.24.\n",
      "  warnings.warn(msg, category=FutureWarning)\n",
      "C:\\Users\\Huanfa Chen\\Anaconda3\\envs\\test_tf\\lib\\site-packages\\sklearn\\utils\\deprecation.py:87: FutureWarning: Function safe_indexing is deprecated; safe_indexing is deprecated in version 0.22 and will be removed in version 0.24.\n",
      "  warnings.warn(msg, category=FutureWarning)\n",
      "C:\\Users\\Huanfa Chen\\Anaconda3\\envs\\test_tf\\lib\\site-packages\\sklearn\\utils\\deprecation.py:87: FutureWarning: Function safe_indexing is deprecated; safe_indexing is deprecated in version 0.22 and will be removed in version 0.24.\n",
      "  warnings.warn(msg, category=FutureWarning)\n",
      "C:\\Users\\Huanfa Chen\\Anaconda3\\envs\\test_tf\\lib\\site-packages\\sklearn\\utils\\deprecation.py:87: FutureWarning: Function safe_indexing is deprecated; safe_indexing is deprecated in version 0.22 and will be removed in version 0.24.\n",
      "  warnings.warn(msg, category=FutureWarning)\n",
      "C:\\Users\\Huanfa Chen\\Anaconda3\\envs\\test_tf\\lib\\site-packages\\sklearn\\utils\\deprecation.py:87: FutureWarning: Function safe_indexing is deprecated; safe_indexing is deprecated in version 0.22 and will be removed in version 0.24.\n",
      "  warnings.warn(msg, category=FutureWarning)\n",
      "C:\\Users\\Huanfa Chen\\Anaconda3\\envs\\test_tf\\lib\\site-packages\\sklearn\\utils\\deprecation.py:87: FutureWarning: Function safe_indexing is deprecated; safe_indexing is deprecated in version 0.22 and will be removed in version 0.24.\n",
      "  warnings.warn(msg, category=FutureWarning)\n",
      "C:\\Users\\Huanfa Chen\\Anaconda3\\envs\\test_tf\\lib\\site-packages\\sklearn\\utils\\deprecation.py:87: FutureWarning: Function safe_indexing is deprecated; safe_indexing is deprecated in version 0.22 and will be removed in version 0.24.\n",
      "  warnings.warn(msg, category=FutureWarning)\n",
      "C:\\Users\\Huanfa Chen\\Anaconda3\\envs\\test_tf\\lib\\site-packages\\sklearn\\utils\\deprecation.py:87: FutureWarning: Function safe_indexing is deprecated; safe_indexing is deprecated in version 0.22 and will be removed in version 0.24.\n",
      "  warnings.warn(msg, category=FutureWarning)\n"
     ]
    },
    {
     "name": "stdout",
     "output_type": "stream",
     "text": [
      "Cross validation result (format: average +/- std_dev)\n",
      "Training accuracy: 1.0000 (+/-0.0000)\n",
      "Testing accuracy: 0.8211 (+/-0.0041)\n",
      "Macro-average F1: 0.7155 (+/-0.0129)\n",
      "Balanced accuracy: 0.6962 (+/-0.0104)\n",
      "Macro-average recall: 0.6962 (+/-0.0104)\n",
      "Macro-average precision: 0.7748 (+/-0.0174)\n",
      "Negative log-loss: -0.5141 (+/-0.0145)\n"
     ]
    }
   ],
   "source": [
    "# using pipeline\n",
    "# https://imbalanced-learn.readthedocs.io/en/stable/generated/imblearn.pipeline.Pipeline.html#imblearn.pipeline.Pipeline\n",
    "\n",
    "from imblearn.pipeline import Pipeline\n",
    "\n",
    "# CV Splitter\n",
    "skf = StratifiedKFold(n_splits=cv_fold, shuffle=True, random_state=random_seed_cv)\n",
    "print(\"Cross validation splitter: \", skf)\n",
    "\n",
    "# ADASYN\n",
    "adasyn = over_sampling.ADASYN(random_state=random_seed_resample)\n",
    "\n",
    "# RF\n",
    "rf = RandomForestClassifier(criterion='gini', \n",
    "                       n_estimators=rf_n_estimators,\n",
    "                       max_depth=rf_max_depth,\n",
    "                       min_samples_leaf=rf_min_samples_leaf,\n",
    "                       random_state= random_seed_rf,\n",
    "                       n_jobs=-1)\n",
    "\n",
    "# pipeline\n",
    "ppl_adasyn_rf = Pipeline([('adasyn', adasyn), ('rf', rf)])\n",
    "\n",
    "scores_adasyn = cross_validate(ppl_adasyn_rf, X_train2, y_train, cv=skf, return_train_score=True, scoring=['f1_macro', 'neg_log_loss', 'accuracy', 'balanced_accuracy', 'recall_macro', 'precision_macro'])\n",
    "\n",
    "print_result_cross_validate(scores_adasyn)"
   ]
  },
  {
   "cell_type": "markdown",
   "metadata": {},
   "source": [
    "# XGBoost Model"
   ]
  },
  {
   "cell_type": "markdown",
   "metadata": {},
   "source": [
    "Building XGBoost with the tuned hyperparameters in the previous sections."
   ]
  },
  {
   "cell_type": "markdown",
   "metadata": {},
   "source": [
    "## Plain XGBoost"
   ]
  },
  {
   "cell_type": "code",
   "execution_count": 13,
   "metadata": {},
   "outputs": [
    {
     "data": {
      "text/plain": [
       "XGBClassifier(base_score=None, booster=None, colsample_bylevel=None,\n",
       "              colsample_bynode=None, colsample_bytree=None, gamma=None,\n",
       "              gpu_id=None, importance_type='gain', interaction_constraints=None,\n",
       "              learning_rate=None, max_delta_step=None, max_depth=None,\n",
       "              min_child_weight=None, missing=nan, monotone_constraints=None,\n",
       "              n_estimators=100, n_jobs=None, num_parallel_tree=None,\n",
       "              objective='binary:logistic', random_state=None, reg_alpha=None,\n",
       "              reg_lambda=None, scale_pos_weight=None, subsample=None,\n",
       "              tree_method=None, validate_parameters=False, verbosity=None)"
      ]
     },
     "execution_count": 13,
     "metadata": {},
     "output_type": "execute_result"
    }
   ],
   "source": [
    "# View the default hyperparameters in XGBoostClassifier\n",
    "xgb.XGBClassifier()"
   ]
  },
  {
   "cell_type": "code",
   "execution_count": 14,
   "metadata": {},
   "outputs": [],
   "source": [
    "import xgboost as xgb\n",
    "random_seed_cv = 102\n",
    "random_seed_xgboost = 1003\n",
    "\n",
    "# eta': 0.6024986478505462\tgamma': 0.07829790662738734\tmax_depth': 11.0\tmin_child_weight': 4.0\tn_estimators': 450.0\n",
    "xgb_max_depth = 11\n",
    "xgb_min_child_weight=4\n",
    "xgb_n_estimators=450\n",
    "xgb_eta = 0.602\n",
    "xgb_gamma = 0.0783\n",
    "\n",
    "param_dist = {'max_depth':xgb_max_depth, 'min_child_weight':xgb_min_child_weight, 'n_estimators':xgb_n_estimators, 'eta':xgb_eta, 'gamma':xgb_gamma, 'random_state':random_seed_xgboost}"
   ]
  },
  {
   "cell_type": "code",
   "execution_count": 19,
   "metadata": {},
   "outputs": [
    {
     "name": "stdout",
     "output_type": "stream",
     "text": [
      "Cross validation splitter:  StratifiedKFold(n_splits=10, random_state=102, shuffle=True)\n",
      "Cross validation result (format: average +/- std_dev)\n",
      "Training accuracy: 1.0000 (+/-0.0000)\n",
      "Testing accuracy: 0.8329 (+/-0.0061)\n",
      "Macro-average F1: 0.6999 (+/-0.0146)\n",
      "Balanced accuracy: 0.6757 (+/-0.0116)\n",
      "Macro-average recall: 0.6757 (+/-0.0116)\n",
      "Macro-average precision: 0.7991 (+/-0.0151)\n",
      "Negative log-loss: -0.5162 (+/-0.0259)\n"
     ]
    }
   ],
   "source": [
    "# Cross validation of Model 2 with default values of max_depth and max_samples\n",
    "# the metrics: https://scikit-learn.org/stable/modules/model_evaluation.html#scoring-parameter\n",
    "skf = StratifiedKFold(n_splits=cv_fold, shuffle=True, random_state=random_seed_cv)\n",
    "print(\"Cross validation splitter: \", skf)\n",
    "\n",
    "xgb_clf = xgb.XGBClassifier(\n",
    "    **param_dist\n",
    ") \n",
    "scores_xgboost = cross_validate(xgb_clf, X_train2, y_train, cv=skf, return_train_score=True, scoring=['f1_macro', 'neg_log_loss', 'accuracy', 'balanced_accuracy', 'recall_macro', 'precision_macro'])\n",
    "\n",
    "print_result_cross_validate(scores_xgboost)"
   ]
  },
  {
   "cell_type": "markdown",
   "metadata": {},
   "source": [
    "## XGBoost with SMOTE-NC"
   ]
  },
  {
   "cell_type": "code",
   "execution_count": 20,
   "metadata": {},
   "outputs": [
    {
     "name": "stdout",
     "output_type": "stream",
     "text": [
      "Cross validation splitter:  StratifiedKFold(n_splits=10, random_state=102, shuffle=True)\n"
     ]
    },
    {
     "name": "stderr",
     "output_type": "stream",
     "text": [
      "C:\\Users\\Huanfa Chen\\Anaconda3\\envs\\test_tf\\lib\\site-packages\\sklearn\\utils\\deprecation.py:87: FutureWarning: Function safe_indexing is deprecated; safe_indexing is deprecated in version 0.22 and will be removed in version 0.24.\n",
      "  warnings.warn(msg, category=FutureWarning)\n",
      "C:\\Users\\Huanfa Chen\\Anaconda3\\envs\\test_tf\\lib\\site-packages\\sklearn\\utils\\deprecation.py:87: FutureWarning: Function safe_indexing is deprecated; safe_indexing is deprecated in version 0.22 and will be removed in version 0.24.\n",
      "  warnings.warn(msg, category=FutureWarning)\n",
      "C:\\Users\\Huanfa Chen\\Anaconda3\\envs\\test_tf\\lib\\site-packages\\sklearn\\utils\\deprecation.py:87: FutureWarning: Function safe_indexing is deprecated; safe_indexing is deprecated in version 0.22 and will be removed in version 0.24.\n",
      "  warnings.warn(msg, category=FutureWarning)\n",
      "C:\\Users\\Huanfa Chen\\Anaconda3\\envs\\test_tf\\lib\\site-packages\\sklearn\\utils\\deprecation.py:87: FutureWarning: Function safe_indexing is deprecated; safe_indexing is deprecated in version 0.22 and will be removed in version 0.24.\n",
      "  warnings.warn(msg, category=FutureWarning)\n",
      "C:\\Users\\Huanfa Chen\\Anaconda3\\envs\\test_tf\\lib\\site-packages\\sklearn\\utils\\deprecation.py:87: FutureWarning: Function safe_indexing is deprecated; safe_indexing is deprecated in version 0.22 and will be removed in version 0.24.\n",
      "  warnings.warn(msg, category=FutureWarning)\n",
      "C:\\Users\\Huanfa Chen\\Anaconda3\\envs\\test_tf\\lib\\site-packages\\sklearn\\utils\\deprecation.py:87: FutureWarning: Function safe_indexing is deprecated; safe_indexing is deprecated in version 0.22 and will be removed in version 0.24.\n",
      "  warnings.warn(msg, category=FutureWarning)\n",
      "C:\\Users\\Huanfa Chen\\Anaconda3\\envs\\test_tf\\lib\\site-packages\\sklearn\\utils\\deprecation.py:87: FutureWarning: Function safe_indexing is deprecated; safe_indexing is deprecated in version 0.22 and will be removed in version 0.24.\n",
      "  warnings.warn(msg, category=FutureWarning)\n",
      "C:\\Users\\Huanfa Chen\\Anaconda3\\envs\\test_tf\\lib\\site-packages\\sklearn\\utils\\deprecation.py:87: FutureWarning: Function safe_indexing is deprecated; safe_indexing is deprecated in version 0.22 and will be removed in version 0.24.\n",
      "  warnings.warn(msg, category=FutureWarning)\n",
      "C:\\Users\\Huanfa Chen\\Anaconda3\\envs\\test_tf\\lib\\site-packages\\sklearn\\utils\\deprecation.py:87: FutureWarning: Function safe_indexing is deprecated; safe_indexing is deprecated in version 0.22 and will be removed in version 0.24.\n",
      "  warnings.warn(msg, category=FutureWarning)\n",
      "C:\\Users\\Huanfa Chen\\Anaconda3\\envs\\test_tf\\lib\\site-packages\\sklearn\\utils\\deprecation.py:87: FutureWarning: Function safe_indexing is deprecated; safe_indexing is deprecated in version 0.22 and will be removed in version 0.24.\n",
      "  warnings.warn(msg, category=FutureWarning)\n",
      "C:\\Users\\Huanfa Chen\\Anaconda3\\envs\\test_tf\\lib\\site-packages\\sklearn\\utils\\deprecation.py:87: FutureWarning: Function safe_indexing is deprecated; safe_indexing is deprecated in version 0.22 and will be removed in version 0.24.\n",
      "  warnings.warn(msg, category=FutureWarning)\n",
      "C:\\Users\\Huanfa Chen\\Anaconda3\\envs\\test_tf\\lib\\site-packages\\sklearn\\utils\\deprecation.py:87: FutureWarning: Function safe_indexing is deprecated; safe_indexing is deprecated in version 0.22 and will be removed in version 0.24.\n",
      "  warnings.warn(msg, category=FutureWarning)\n",
      "C:\\Users\\Huanfa Chen\\Anaconda3\\envs\\test_tf\\lib\\site-packages\\sklearn\\utils\\deprecation.py:87: FutureWarning: Function safe_indexing is deprecated; safe_indexing is deprecated in version 0.22 and will be removed in version 0.24.\n",
      "  warnings.warn(msg, category=FutureWarning)\n",
      "C:\\Users\\Huanfa Chen\\Anaconda3\\envs\\test_tf\\lib\\site-packages\\sklearn\\utils\\deprecation.py:87: FutureWarning: Function safe_indexing is deprecated; safe_indexing is deprecated in version 0.22 and will be removed in version 0.24.\n",
      "  warnings.warn(msg, category=FutureWarning)\n",
      "C:\\Users\\Huanfa Chen\\Anaconda3\\envs\\test_tf\\lib\\site-packages\\sklearn\\utils\\deprecation.py:87: FutureWarning: Function safe_indexing is deprecated; safe_indexing is deprecated in version 0.22 and will be removed in version 0.24.\n",
      "  warnings.warn(msg, category=FutureWarning)\n",
      "C:\\Users\\Huanfa Chen\\Anaconda3\\envs\\test_tf\\lib\\site-packages\\sklearn\\utils\\deprecation.py:87: FutureWarning: Function safe_indexing is deprecated; safe_indexing is deprecated in version 0.22 and will be removed in version 0.24.\n",
      "  warnings.warn(msg, category=FutureWarning)\n",
      "C:\\Users\\Huanfa Chen\\Anaconda3\\envs\\test_tf\\lib\\site-packages\\sklearn\\utils\\deprecation.py:87: FutureWarning: Function safe_indexing is deprecated; safe_indexing is deprecated in version 0.22 and will be removed in version 0.24.\n",
      "  warnings.warn(msg, category=FutureWarning)\n",
      "C:\\Users\\Huanfa Chen\\Anaconda3\\envs\\test_tf\\lib\\site-packages\\sklearn\\utils\\deprecation.py:87: FutureWarning: Function safe_indexing is deprecated; safe_indexing is deprecated in version 0.22 and will be removed in version 0.24.\n",
      "  warnings.warn(msg, category=FutureWarning)\n",
      "C:\\Users\\Huanfa Chen\\Anaconda3\\envs\\test_tf\\lib\\site-packages\\sklearn\\utils\\deprecation.py:87: FutureWarning: Function safe_indexing is deprecated; safe_indexing is deprecated in version 0.22 and will be removed in version 0.24.\n",
      "  warnings.warn(msg, category=FutureWarning)\n",
      "C:\\Users\\Huanfa Chen\\Anaconda3\\envs\\test_tf\\lib\\site-packages\\sklearn\\utils\\deprecation.py:87: FutureWarning: Function safe_indexing is deprecated; safe_indexing is deprecated in version 0.22 and will be removed in version 0.24.\n",
      "  warnings.warn(msg, category=FutureWarning)\n"
     ]
    },
    {
     "name": "stdout",
     "output_type": "stream",
     "text": [
      "Cross validation result (format: average +/- std_dev)\n",
      "Training accuracy: 1.0000 (+/-0.0000)\n",
      "Testing accuracy: 0.8114 (+/-0.0068)\n",
      "Macro-average F1: 0.6995 (+/-0.0087)\n",
      "Balanced accuracy: 0.6936 (+/-0.0077)\n",
      "Macro-average recall: 0.6936 (+/-0.0077)\n",
      "Macro-average precision: 0.7188 (+/-0.0108)\n",
      "Negative log-loss: -0.5425 (+/-0.0166)\n"
     ]
    }
   ],
   "source": [
    "# using pipeline\n",
    "# https://imbalanced-learn.readthedocs.io/en/stable/generated/imblearn.pipeline.Pipeline.html#imblearn.pipeline.Pipeline\n",
    "\n",
    "from imblearn.pipeline import Pipeline\n",
    "\n",
    "# CV Splitter\n",
    "skf = StratifiedKFold(n_splits=cv_fold, shuffle=True, random_state=random_seed_cv)\n",
    "print(\"Cross validation splitter: \", skf)\n",
    "\n",
    "# SMOTENC\n",
    "list_categorical_var = ['household_size_int', 'household_chld', 'household_Teen',\n",
    "       'household_Avgage', 'car_ownership', 'female', 'age_grp',\n",
    "       'driving_license', 'purpose', 'fueltype', 'faretype', 'bus_scale',\n",
    "       'season', 'day_of_week', 'time_of_day']\n",
    "# creating a mask for categorical_var. The mask consists of TRUE and FALSE\n",
    "mask_cateogrical_var = [e in list_categorical_var for e in X_train2.columns]\n",
    "smtnc = over_sampling.SMOTENC(random_state=random_seed_resample, categorical_features=mask_cateogrical_var)\n",
    "\n",
    "# XGBoost\n",
    "xgb_clf = xgb.XGBClassifier(\n",
    "    **param_dist\n",
    ") \n",
    "\n",
    "# pipeline\n",
    "ppl_smt_xgb = Pipeline([('smt', smtnc), ('xgb', xgb_clf)])\n",
    "\n",
    "scores_stmnc = cross_validate(ppl_smt_rf, X_train2, y_train, cv=skf, return_train_score=True, scoring=['f1_macro', 'neg_log_loss', 'accuracy', 'balanced_accuracy', 'recall_macro', 'precision_macro'])\n",
    "\n",
    "print_result_cross_validate(scores_stmnc)"
   ]
  },
  {
   "cell_type": "markdown",
   "metadata": {},
   "source": [
    "## XGBoost with ADASYN"
   ]
  },
  {
   "cell_type": "code",
   "execution_count": 15,
   "metadata": {},
   "outputs": [
    {
     "name": "stdout",
     "output_type": "stream",
     "text": [
      "Cross validation splitter:  StratifiedKFold(n_splits=10, random_state=102, shuffle=True)\n"
     ]
    },
    {
     "name": "stderr",
     "output_type": "stream",
     "text": [
      "C:\\Users\\Huanfa Chen\\Anaconda3\\envs\\test_tf\\lib\\site-packages\\sklearn\\utils\\deprecation.py:87: FutureWarning: Function safe_indexing is deprecated; safe_indexing is deprecated in version 0.22 and will be removed in version 0.24.\n",
      "  warnings.warn(msg, category=FutureWarning)\n",
      "C:\\Users\\Huanfa Chen\\Anaconda3\\envs\\test_tf\\lib\\site-packages\\sklearn\\utils\\deprecation.py:87: FutureWarning: Function safe_indexing is deprecated; safe_indexing is deprecated in version 0.22 and will be removed in version 0.24.\n",
      "  warnings.warn(msg, category=FutureWarning)\n",
      "C:\\Users\\Huanfa Chen\\Anaconda3\\envs\\test_tf\\lib\\site-packages\\sklearn\\utils\\deprecation.py:87: FutureWarning: Function safe_indexing is deprecated; safe_indexing is deprecated in version 0.22 and will be removed in version 0.24.\n",
      "  warnings.warn(msg, category=FutureWarning)\n",
      "C:\\Users\\Huanfa Chen\\Anaconda3\\envs\\test_tf\\lib\\site-packages\\sklearn\\utils\\deprecation.py:87: FutureWarning: Function safe_indexing is deprecated; safe_indexing is deprecated in version 0.22 and will be removed in version 0.24.\n",
      "  warnings.warn(msg, category=FutureWarning)\n",
      "C:\\Users\\Huanfa Chen\\Anaconda3\\envs\\test_tf\\lib\\site-packages\\sklearn\\utils\\deprecation.py:87: FutureWarning: Function safe_indexing is deprecated; safe_indexing is deprecated in version 0.22 and will be removed in version 0.24.\n",
      "  warnings.warn(msg, category=FutureWarning)\n",
      "C:\\Users\\Huanfa Chen\\Anaconda3\\envs\\test_tf\\lib\\site-packages\\sklearn\\utils\\deprecation.py:87: FutureWarning: Function safe_indexing is deprecated; safe_indexing is deprecated in version 0.22 and will be removed in version 0.24.\n",
      "  warnings.warn(msg, category=FutureWarning)\n",
      "C:\\Users\\Huanfa Chen\\Anaconda3\\envs\\test_tf\\lib\\site-packages\\sklearn\\utils\\deprecation.py:87: FutureWarning: Function safe_indexing is deprecated; safe_indexing is deprecated in version 0.22 and will be removed in version 0.24.\n",
      "  warnings.warn(msg, category=FutureWarning)\n",
      "C:\\Users\\Huanfa Chen\\Anaconda3\\envs\\test_tf\\lib\\site-packages\\sklearn\\utils\\deprecation.py:87: FutureWarning: Function safe_indexing is deprecated; safe_indexing is deprecated in version 0.22 and will be removed in version 0.24.\n",
      "  warnings.warn(msg, category=FutureWarning)\n",
      "C:\\Users\\Huanfa Chen\\Anaconda3\\envs\\test_tf\\lib\\site-packages\\sklearn\\utils\\deprecation.py:87: FutureWarning: Function safe_indexing is deprecated; safe_indexing is deprecated in version 0.22 and will be removed in version 0.24.\n",
      "  warnings.warn(msg, category=FutureWarning)\n",
      "C:\\Users\\Huanfa Chen\\Anaconda3\\envs\\test_tf\\lib\\site-packages\\sklearn\\utils\\deprecation.py:87: FutureWarning: Function safe_indexing is deprecated; safe_indexing is deprecated in version 0.22 and will be removed in version 0.24.\n",
      "  warnings.warn(msg, category=FutureWarning)\n",
      "C:\\Users\\Huanfa Chen\\Anaconda3\\envs\\test_tf\\lib\\site-packages\\sklearn\\utils\\deprecation.py:87: FutureWarning: Function safe_indexing is deprecated; safe_indexing is deprecated in version 0.22 and will be removed in version 0.24.\n",
      "  warnings.warn(msg, category=FutureWarning)\n",
      "C:\\Users\\Huanfa Chen\\Anaconda3\\envs\\test_tf\\lib\\site-packages\\sklearn\\utils\\deprecation.py:87: FutureWarning: Function safe_indexing is deprecated; safe_indexing is deprecated in version 0.22 and will be removed in version 0.24.\n",
      "  warnings.warn(msg, category=FutureWarning)\n",
      "C:\\Users\\Huanfa Chen\\Anaconda3\\envs\\test_tf\\lib\\site-packages\\sklearn\\utils\\deprecation.py:87: FutureWarning: Function safe_indexing is deprecated; safe_indexing is deprecated in version 0.22 and will be removed in version 0.24.\n",
      "  warnings.warn(msg, category=FutureWarning)\n",
      "C:\\Users\\Huanfa Chen\\Anaconda3\\envs\\test_tf\\lib\\site-packages\\sklearn\\utils\\deprecation.py:87: FutureWarning: Function safe_indexing is deprecated; safe_indexing is deprecated in version 0.22 and will be removed in version 0.24.\n",
      "  warnings.warn(msg, category=FutureWarning)\n",
      "C:\\Users\\Huanfa Chen\\Anaconda3\\envs\\test_tf\\lib\\site-packages\\sklearn\\utils\\deprecation.py:87: FutureWarning: Function safe_indexing is deprecated; safe_indexing is deprecated in version 0.22 and will be removed in version 0.24.\n",
      "  warnings.warn(msg, category=FutureWarning)\n",
      "C:\\Users\\Huanfa Chen\\Anaconda3\\envs\\test_tf\\lib\\site-packages\\sklearn\\utils\\deprecation.py:87: FutureWarning: Function safe_indexing is deprecated; safe_indexing is deprecated in version 0.22 and will be removed in version 0.24.\n",
      "  warnings.warn(msg, category=FutureWarning)\n",
      "C:\\Users\\Huanfa Chen\\Anaconda3\\envs\\test_tf\\lib\\site-packages\\sklearn\\utils\\deprecation.py:87: FutureWarning: Function safe_indexing is deprecated; safe_indexing is deprecated in version 0.22 and will be removed in version 0.24.\n",
      "  warnings.warn(msg, category=FutureWarning)\n",
      "C:\\Users\\Huanfa Chen\\Anaconda3\\envs\\test_tf\\lib\\site-packages\\sklearn\\utils\\deprecation.py:87: FutureWarning: Function safe_indexing is deprecated; safe_indexing is deprecated in version 0.22 and will be removed in version 0.24.\n",
      "  warnings.warn(msg, category=FutureWarning)\n",
      "C:\\Users\\Huanfa Chen\\Anaconda3\\envs\\test_tf\\lib\\site-packages\\sklearn\\utils\\deprecation.py:87: FutureWarning: Function safe_indexing is deprecated; safe_indexing is deprecated in version 0.22 and will be removed in version 0.24.\n",
      "  warnings.warn(msg, category=FutureWarning)\n",
      "C:\\Users\\Huanfa Chen\\Anaconda3\\envs\\test_tf\\lib\\site-packages\\sklearn\\utils\\deprecation.py:87: FutureWarning: Function safe_indexing is deprecated; safe_indexing is deprecated in version 0.22 and will be removed in version 0.24.\n",
      "  warnings.warn(msg, category=FutureWarning)\n",
      "C:\\Users\\Huanfa Chen\\Anaconda3\\envs\\test_tf\\lib\\site-packages\\sklearn\\utils\\deprecation.py:87: FutureWarning: Function safe_indexing is deprecated; safe_indexing is deprecated in version 0.22 and will be removed in version 0.24.\n",
      "  warnings.warn(msg, category=FutureWarning)\n",
      "C:\\Users\\Huanfa Chen\\Anaconda3\\envs\\test_tf\\lib\\site-packages\\sklearn\\utils\\deprecation.py:87: FutureWarning: Function safe_indexing is deprecated; safe_indexing is deprecated in version 0.22 and will be removed in version 0.24.\n",
      "  warnings.warn(msg, category=FutureWarning)\n",
      "C:\\Users\\Huanfa Chen\\Anaconda3\\envs\\test_tf\\lib\\site-packages\\sklearn\\utils\\deprecation.py:87: FutureWarning: Function safe_indexing is deprecated; safe_indexing is deprecated in version 0.22 and will be removed in version 0.24.\n",
      "  warnings.warn(msg, category=FutureWarning)\n",
      "C:\\Users\\Huanfa Chen\\Anaconda3\\envs\\test_tf\\lib\\site-packages\\sklearn\\utils\\deprecation.py:87: FutureWarning: Function safe_indexing is deprecated; safe_indexing is deprecated in version 0.22 and will be removed in version 0.24.\n",
      "  warnings.warn(msg, category=FutureWarning)\n",
      "C:\\Users\\Huanfa Chen\\Anaconda3\\envs\\test_tf\\lib\\site-packages\\sklearn\\utils\\deprecation.py:87: FutureWarning: Function safe_indexing is deprecated; safe_indexing is deprecated in version 0.22 and will be removed in version 0.24.\n",
      "  warnings.warn(msg, category=FutureWarning)\n",
      "C:\\Users\\Huanfa Chen\\Anaconda3\\envs\\test_tf\\lib\\site-packages\\sklearn\\utils\\deprecation.py:87: FutureWarning: Function safe_indexing is deprecated; safe_indexing is deprecated in version 0.22 and will be removed in version 0.24.\n",
      "  warnings.warn(msg, category=FutureWarning)\n",
      "C:\\Users\\Huanfa Chen\\Anaconda3\\envs\\test_tf\\lib\\site-packages\\sklearn\\utils\\deprecation.py:87: FutureWarning: Function safe_indexing is deprecated; safe_indexing is deprecated in version 0.22 and will be removed in version 0.24.\n",
      "  warnings.warn(msg, category=FutureWarning)\n",
      "C:\\Users\\Huanfa Chen\\Anaconda3\\envs\\test_tf\\lib\\site-packages\\sklearn\\utils\\deprecation.py:87: FutureWarning: Function safe_indexing is deprecated; safe_indexing is deprecated in version 0.22 and will be removed in version 0.24.\n",
      "  warnings.warn(msg, category=FutureWarning)\n",
      "C:\\Users\\Huanfa Chen\\Anaconda3\\envs\\test_tf\\lib\\site-packages\\sklearn\\utils\\deprecation.py:87: FutureWarning: Function safe_indexing is deprecated; safe_indexing is deprecated in version 0.22 and will be removed in version 0.24.\n",
      "  warnings.warn(msg, category=FutureWarning)\n",
      "C:\\Users\\Huanfa Chen\\Anaconda3\\envs\\test_tf\\lib\\site-packages\\sklearn\\utils\\deprecation.py:87: FutureWarning: Function safe_indexing is deprecated; safe_indexing is deprecated in version 0.22 and will be removed in version 0.24.\n",
      "  warnings.warn(msg, category=FutureWarning)\n"
     ]
    },
    {
     "name": "stdout",
     "output_type": "stream",
     "text": [
      "Cross validation result (format: average +/- std_dev)\n",
      "Training accuracy: 1.0000 (+/-0.0000)\n",
      "Testing accuracy: 0.8381 (+/-0.0060)\n",
      "Macro-average F1: 0.7384 (+/-0.0138)\n",
      "Balanced accuracy: 0.7113 (+/-0.0122)\n",
      "Macro-average recall: 0.7113 (+/-0.0122)\n",
      "Macro-average precision: 0.8048 (+/-0.0175)\n",
      "Negative log-loss: -0.5040 (+/-0.0357)\n"
     ]
    }
   ],
   "source": [
    "# using pipeline\n",
    "# https://imbalanced-learn.readthedocs.io/en/stable/generated/imblearn.pipeline.Pipeline.html#imblearn.pipeline.Pipeline\n",
    "\n",
    "from imblearn.pipeline import Pipeline\n",
    "\n",
    "# CV Splitter\n",
    "skf = StratifiedKFold(n_splits=cv_fold, shuffle=True, random_state=random_seed_cv)\n",
    "print(\"Cross validation splitter: \", skf)\n",
    "\n",
    "# ADASYN\n",
    "adasyn = over_sampling.ADASYN(random_state=random_seed_resample)\n",
    "\n",
    "# XGB\n",
    "xgb_clf = xgb.XGBClassifier(\n",
    "    **param_dist\n",
    ") \n",
    "\n",
    "# pipeline\n",
    "ppl_adasyn_xgb = Pipeline([('adasyn', adasyn), ('xgb', xgb_clf)])\n",
    "\n",
    "scores_adasyn_xgb = cross_validate(ppl_adasyn_xgb, np.array(X_train2), y_train, cv=skf, return_train_score=True, scoring=['f1_macro', 'neg_log_loss', 'accuracy', 'balanced_accuracy', 'recall_macro', 'precision_macro'])\n",
    "\n",
    "print_result_cross_validate(scores_adasyn_xgb)"
   ]
  },
  {
   "cell_type": "markdown",
   "metadata": {},
   "source": [
    "# Comparing three RFs regarding feature importance"
   ]
  },
  {
   "cell_type": "code",
   "execution_count": 27,
   "metadata": {},
   "outputs": [],
   "source": [
    "# load packages\n",
    "from pylib.plot import plot_decision_boundary"
   ]
  },
  {
   "cell_type": "code",
   "execution_count": 17,
   "metadata": {},
   "outputs": [],
   "source": [
    "# constants\n",
    "random_seed_RF = 1021\n",
    "random_seed_resample = 1009"
   ]
  },
  {
   "cell_type": "markdown",
   "metadata": {},
   "source": [
    "## Plain RF"
   ]
  },
  {
   "cell_type": "code",
   "execution_count": 20,
   "metadata": {},
   "outputs": [
    {
     "name": "stdout",
     "output_type": "stream",
     "text": [
      "\n",
      "**** Classification report:\n",
      "              precision    recall  f1-score   support\n",
      "\n",
      "           1       0.79      0.73      0.76      2396\n",
      "           2       0.81      0.04      0.08       386\n",
      "           3       0.81      0.81      0.81      4776\n",
      "           4       0.82      0.89      0.85      6134\n",
      "\n",
      "    accuracy                           0.81     13692\n",
      "   macro avg       0.81      0.62      0.63     13692\n",
      "weighted avg       0.81      0.81      0.80     13692\n",
      "\n",
      "\n",
      "**** Confusion matrix\n",
      "[[1746    2  248  400]\n",
      " [  61   17  180  128]\n",
      " [ 201    0 3879  696]\n",
      " [ 215    2  455 5462]]\n",
      "\n",
      "**** Feature importance:\n"
     ]
    },
    {
     "data": {
      "image/png": "[encoded data removed]",
      "text/plain": [
       "<Figure size 288x349.92 with 1 Axes>"
      ]
     },
     "metadata": {
      "needs_background": "light"
     },
     "output_type": "display_data"
    }
   ],
   "source": [
    "# run the RF model\n",
    "\n",
    "rf_original, X_train_ori, X_test_ori, y_train_ori, y_test_ori, rf_original_feature_imp = run_rf_XGBoost(X_train2, y_train, params=rf_params)"
   ]
  },
  {
   "cell_type": "markdown",
   "metadata": {},
   "source": [
    "## RF with SMOTE-NC"
   ]
  },
  {
   "cell_type": "code",
   "execution_count": 21,
   "metadata": {},
   "outputs": [
    {
     "name": "stderr",
     "output_type": "stream",
     "text": [
      "C:\\Users\\Huanfa Chen\\Anaconda3\\envs\\test_tf\\lib\\site-packages\\sklearn\\utils\\deprecation.py:87: FutureWarning: Function safe_indexing is deprecated; safe_indexing is deprecated in version 0.22 and will be removed in version 0.24.\n",
      "  warnings.warn(msg, category=FutureWarning)\n",
      "C:\\Users\\Huanfa Chen\\Anaconda3\\envs\\test_tf\\lib\\site-packages\\sklearn\\utils\\deprecation.py:87: FutureWarning: Function safe_indexing is deprecated; safe_indexing is deprecated in version 0.22 and will be removed in version 0.24.\n",
      "  warnings.warn(msg, category=FutureWarning)\n"
     ]
    },
    {
     "name": "stdout",
     "output_type": "stream",
     "text": [
      "\n",
      "**** Classification report:\n",
      "              precision    recall  f1-score   support\n",
      "\n",
      "           1       0.70      0.82      0.76      2396\n",
      "           2       0.38      0.33      0.35       386\n",
      "           3       0.83      0.78      0.81      4776\n",
      "           4       0.85      0.84      0.84      6134\n",
      "\n",
      "    accuracy                           0.80     13692\n",
      "   macro avg       0.69      0.69      0.69     13692\n",
      "weighted avg       0.80      0.80      0.80     13692\n",
      "\n",
      "\n",
      "**** Confusion matrix\n",
      "[[1967   46  153  230]\n",
      " [  67  126  106   87]\n",
      " [ 338  101 3741  596]\n",
      " [ 430   59  490 5155]]\n",
      "\n",
      "**** Feature importance:\n"
     ]
    },
    {
     "data": {
      "image/png": "[encoded data removed]",
      "text/plain": [
       "<Figure size 288x349.92 with 1 Axes>"
      ]
     },
     "metadata": {
      "needs_background": "light"
     },
     "output_type": "display_data"
    }
   ],
   "source": [
    "# run the RF model with SMOTENC\n",
    "\n",
    "# SMOTENC\n",
    "list_categorical_var = ['household_size_int', 'household_chld', 'household_Teen',\n",
    "       'household_Avgage', 'car_ownership', 'female', 'age_grp',\n",
    "       'driving_license', 'purpose', 'fueltype', 'faretype', 'bus_scale',\n",
    "       'season', 'day_of_week', 'time_of_day']\n",
    "\n",
    "# creating a mask for categorical_var. The mask consists of TRUE and FALSE\n",
    "mask_cateogrical_var = [e in list_categorical_var for e in X_train2.columns]\n",
    "\n",
    "rf_SMOTE, X_train_SMOTE, X_test_SMOTE, y_train_SMOTE, y_test_SMOTE, rf_SMOTE_feature_imp = run_rf_XGBoost(X_train2, y_train, resampling= 'SMOTENC', list_categorical_data=mask_cateogrical_var, params=rf_params)"
   ]
  },
  {
   "cell_type": "markdown",
   "metadata": {},
   "source": [
    "## RF with ADASYN"
   ]
  },
  {
   "cell_type": "code",
   "execution_count": 22,
   "metadata": {},
   "outputs": [
    {
     "name": "stderr",
     "output_type": "stream",
     "text": [
      "C:\\Users\\Huanfa Chen\\Anaconda3\\envs\\test_tf\\lib\\site-packages\\sklearn\\utils\\deprecation.py:87: FutureWarning: Function safe_indexing is deprecated; safe_indexing is deprecated in version 0.22 and will be removed in version 0.24.\n",
      "  warnings.warn(msg, category=FutureWarning)\n",
      "C:\\Users\\Huanfa Chen\\Anaconda3\\envs\\test_tf\\lib\\site-packages\\sklearn\\utils\\deprecation.py:87: FutureWarning: Function safe_indexing is deprecated; safe_indexing is deprecated in version 0.22 and will be removed in version 0.24.\n",
      "  warnings.warn(msg, category=FutureWarning)\n",
      "C:\\Users\\Huanfa Chen\\Anaconda3\\envs\\test_tf\\lib\\site-packages\\sklearn\\utils\\deprecation.py:87: FutureWarning: Function safe_indexing is deprecated; safe_indexing is deprecated in version 0.22 and will be removed in version 0.24.\n",
      "  warnings.warn(msg, category=FutureWarning)\n"
     ]
    },
    {
     "name": "stdout",
     "output_type": "stream",
     "text": [
      "\n",
      "**** Classification report:\n",
      "              precision    recall  f1-score   support\n",
      "\n",
      "           1       0.72      0.80      0.76      2396\n",
      "           2       0.70      0.27      0.39       386\n",
      "           3       0.83      0.80      0.81      4776\n",
      "           4       0.84      0.86      0.85      6134\n",
      "\n",
      "    accuracy                           0.81     13692\n",
      "   macro avg       0.77      0.68      0.70     13692\n",
      "weighted avg       0.81      0.81      0.81     13692\n",
      "\n",
      "\n",
      "**** Confusion matrix\n",
      "[[1924   11  178  283]\n",
      " [  68  104  125   89]\n",
      " [ 316   20 3804  636]\n",
      " [ 364   13  486 5271]]\n",
      "\n",
      "**** Feature importance:\n"
     ]
    },
    {
     "data": {
      "image/png": "[encoded data removed]",
      "text/plain": [
       "<Figure size 288x349.92 with 1 Axes>"
      ]
     },
     "metadata": {
      "needs_background": "light"
     },
     "output_type": "display_data"
    }
   ],
   "source": [
    "# run the RF model\n",
    "rf_ADASYN, X_train_ADASYN, X_test_ADASYN, y_train_ADASYN, y_test_ADASYN, rf_ADASYN_feature_imp = run_rf_XGBoost(X_train2, y_train, resampling='ADASYN', params=rf_params)"
   ]
  },
  {
   "cell_type": "markdown",
   "metadata": {},
   "source": [
    "# Comparing three XGB regarding feature importance"
   ]
  },
  {
   "cell_type": "markdown",
   "metadata": {},
   "source": [
    "## Plain XGBoost"
   ]
  },
  {
   "cell_type": "code",
   "execution_count": 23,
   "metadata": {},
   "outputs": [
    {
     "name": "stdout",
     "output_type": "stream",
     "text": [
      "\n",
      "**** Classification report:\n",
      "              precision    recall  f1-score   support\n",
      "\n",
      "           1       0.79      0.76      0.77      2396\n",
      "           2       0.70      0.15      0.25       386\n",
      "           3       0.81      0.82      0.82      4776\n",
      "           4       0.83      0.88      0.86      6134\n",
      "\n",
      "    accuracy                           0.82     13692\n",
      "   macro avg       0.78      0.65      0.67     13692\n",
      "weighted avg       0.81      0.82      0.81     13692\n",
      "\n",
      "\n",
      "**** Confusion matrix\n",
      "[[1817   10  228  341]\n",
      " [  62   58  159  107]\n",
      " [ 226    7 3911  632]\n",
      " [ 206    8  503 5417]]\n",
      "\n",
      "**** Feature importance:\n"
     ]
    },
    {
     "data": {
      "image/png": "[encoded data removed]",
      "text/plain": [
       "<Figure size 288x349.92 with 1 Axes>"
      ]
     },
     "metadata": {
      "needs_background": "light"
     },
     "output_type": "display_data"
    }
   ],
   "source": [
    "# run the XGBoost model\n",
    "\n",
    "xgb_original, xgb_X_train_ori, xgb_X_test_ori, xgb_y_train_ori, xgb_y_test_ori, xgb_original_feature_imp = run_rf_XGBoost(X_train2, y_train, params=param_dist, model='XGBoost')"
   ]
  },
  {
   "cell_type": "code",
   "execution_count": 23,
   "metadata": {},
   "outputs": [
    {
     "data": {
      "text/plain": [
       "(13692, 22)"
      ]
     },
     "execution_count": 23,
     "metadata": {},
     "output_type": "execute_result"
    }
   ],
   "source": [
    "X_test_ori.shape"
   ]
  },
  {
   "cell_type": "code",
   "execution_count": 24,
   "metadata": {},
   "outputs": [
    {
     "data": {
      "text/plain": [
       "1431     2\n",
       "39399    2\n",
       "19129    2\n",
       "53157    2\n",
       "31211    3\n",
       "        ..\n",
       "1905     0\n",
       "16683    2\n",
       "5899     0\n",
       "22594    3\n",
       "45372    0\n",
       "Name: travel_mode, Length: 13692, dtype: int64"
      ]
     },
     "execution_count": 24,
     "metadata": {},
     "output_type": "execute_result"
    }
   ],
   "source": [
    "y_test_ori-1"
   ]
  },
  {
   "cell_type": "markdown",
   "metadata": {},
   "source": [
    "## XGBoost with SMOTE-NC"
   ]
  },
  {
   "cell_type": "code",
   "execution_count": 24,
   "metadata": {},
   "outputs": [
    {
     "name": "stderr",
     "output_type": "stream",
     "text": [
      "C:\\Users\\Huanfa Chen\\Anaconda3\\envs\\test_tf\\lib\\site-packages\\sklearn\\utils\\deprecation.py:87: FutureWarning: Function safe_indexing is deprecated; safe_indexing is deprecated in version 0.22 and will be removed in version 0.24.\n",
      "  warnings.warn(msg, category=FutureWarning)\n",
      "C:\\Users\\Huanfa Chen\\Anaconda3\\envs\\test_tf\\lib\\site-packages\\sklearn\\utils\\deprecation.py:87: FutureWarning: Function safe_indexing is deprecated; safe_indexing is deprecated in version 0.22 and will be removed in version 0.24.\n",
      "  warnings.warn(msg, category=FutureWarning)\n"
     ]
    },
    {
     "name": "stdout",
     "output_type": "stream",
     "text": [
      "\n",
      "**** Classification report:\n",
      "              precision    recall  f1-score   support\n",
      "\n",
      "           1       0.75      0.77      0.76      2396\n",
      "           2       0.44      0.31      0.36       386\n",
      "           3       0.82      0.81      0.82      4776\n",
      "           4       0.85      0.86      0.86      6134\n",
      "\n",
      "    accuracy                           0.81     13692\n",
      "   macro avg       0.72      0.69      0.70     13692\n",
      "weighted avg       0.81      0.81      0.81     13692\n",
      "\n",
      "\n",
      "**** Confusion matrix\n",
      "[[1853   34  205  304]\n",
      " [  57  119  123   87]\n",
      " [ 280   73 3872  551]\n",
      " [ 270   45  518 5301]]\n",
      "\n",
      "**** Feature importance:\n"
     ]
    },
    {
     "data": {
      "image/png": "[encoded data removed]",
      "text/plain": [
       "<Figure size 288x349.92 with 1 Axes>"
      ]
     },
     "metadata": {
      "needs_background": "light"
     },
     "output_type": "display_data"
    }
   ],
   "source": [
    "# run the XGBoost model with SMOTENC\n",
    "\n",
    "# SMOTENC\n",
    "list_categorical_var = ['household_size_int', 'household_chld', 'household_Teen',\n",
    "       'household_Avgage', 'car_ownership', 'female', 'age_grp',\n",
    "       'driving_license', 'purpose', 'fueltype', 'faretype', 'bus_scale',\n",
    "       'season', 'day_of_week', 'time_of_day']\n",
    "\n",
    "# creating a mask for categorical_var. The mask consists of TRUE and FALSE\n",
    "mask_cateogrical_var = [e in list_categorical_var for e in X_train2.columns]\n",
    "\n",
    "xgb_SMOTE, xgb_X_train_SMOTE, xgb_X_test_SMOTE, xgb_y_train_SMOTE, xgb_y_test_SMOTE, xgb_SMOTE_feature_imp = run_rf_XGBoost(X_train2, y_train, resampling= 'SMOTENC', list_categorical_data=mask_cateogrical_var, params=param_dist, model='XGBoost')"
   ]
  },
  {
   "cell_type": "markdown",
   "metadata": {},
   "source": [
    "## XGBoost with ADASYN"
   ]
  },
  {
   "cell_type": "code",
   "execution_count": 25,
   "metadata": {},
   "outputs": [
    {
     "name": "stderr",
     "output_type": "stream",
     "text": [
      "C:\\Users\\Huanfa Chen\\Anaconda3\\envs\\test_tf\\lib\\site-packages\\sklearn\\utils\\deprecation.py:87: FutureWarning: Function safe_indexing is deprecated; safe_indexing is deprecated in version 0.22 and will be removed in version 0.24.\n",
      "  warnings.warn(msg, category=FutureWarning)\n",
      "C:\\Users\\Huanfa Chen\\Anaconda3\\envs\\test_tf\\lib\\site-packages\\sklearn\\utils\\deprecation.py:87: FutureWarning: Function safe_indexing is deprecated; safe_indexing is deprecated in version 0.22 and will be removed in version 0.24.\n",
      "  warnings.warn(msg, category=FutureWarning)\n",
      "C:\\Users\\Huanfa Chen\\Anaconda3\\envs\\test_tf\\lib\\site-packages\\sklearn\\utils\\deprecation.py:87: FutureWarning: Function safe_indexing is deprecated; safe_indexing is deprecated in version 0.22 and will be removed in version 0.24.\n",
      "  warnings.warn(msg, category=FutureWarning)\n"
     ]
    },
    {
     "name": "stdout",
     "output_type": "stream",
     "text": [
      "\n",
      "**** Classification report:\n",
      "              precision    recall  f1-score   support\n",
      "\n",
      "           1       0.78      0.78      0.78      2396\n",
      "           2       0.62      0.25      0.36       386\n",
      "           3       0.83      0.82      0.82      4776\n",
      "           4       0.84      0.88      0.86      6134\n",
      "\n",
      "    accuracy                           0.82     13692\n",
      "   macro avg       0.77      0.68      0.70     13692\n",
      "weighted avg       0.82      0.82      0.82     13692\n",
      "\n",
      "\n",
      "**** Confusion matrix\n",
      "[[1860   17  199  320]\n",
      " [  64   97  133   92]\n",
      " [ 249   29 3900  598]\n",
      " [ 227   14  479 5414]]\n",
      "\n",
      "**** Feature importance:\n"
     ]
    },
    {
     "data": {
      "image/png": "[encoded data removed]",
      "text/plain": [
       "<Figure size 288x349.92 with 1 Axes>"
      ]
     },
     "metadata": {
      "needs_background": "light"
     },
     "output_type": "display_data"
    }
   ],
   "source": [
    "# run the XGBoost model\n",
    "xgb_ADASYN, xgb_X_train_ADASYN, xgb_X_test_ADASYN, xgb_y_train_ADASYN, xgb_y_test_ADASYN, xgb_ADASYN_feature_imp = run_rf_XGBoost(X_train2, y_train, resampling='ADASYN', params=param_dist, model='XGBoost')"
   ]
  },
  {
   "cell_type": "markdown",
   "metadata": {},
   "source": [
    "# Plotting feature importance metrics for RF and XGBoost"
   ]
  },
  {
   "cell_type": "code",
   "execution_count": 74,
   "metadata": {},
   "outputs": [],
   "source": [
    "def plot_feature_importance(df_feature_importance, xmin=None, xmax=None, df_feature_name_mapping=None):\n",
    "    '''Returns a custom plot object of feature importance.\n",
    "    \n",
    "    This function takes a pandas dataframe called df_feature_importance and a dictionary that maps feature names, with the minimum and maximum of the x axis (xmin and xmax).\n",
    "    \n",
    "    '''\n",
    "    fig, ax = plt.subplots(1, figsize=(5,7))\n",
    "    n_feature = df_feature_importance.shape[0]\n",
    "    ax.barh(df_feature_importance.index, df_feature_importance['Importance'], height=0.9)\n",
    "    ax.set_yticks(ticks=np.arange(0,29,1))\n",
    "    ax.set_yticklabels(labels=df_feature_importance.index, size=16)\n",
    "    if xmin is None:\n",
    "        xmin = -0.005\n",
    "    if xmax is None:\n",
    "        xmax = df_feature_importance['Importance'].max()\n",
    "    if df_feature_name_mapping is not None:\n",
    "        dict_feature_name_mapping = dict(zip(df_feature_name_mapping['existing_name'], df_feature_name_mapping['new_name']))\n",
    "        df_feature_importance.index = [dict_feature_name_mapping.get(x,x) for x in df_feature_importance.index]\n",
    "        \n",
    "    ax.set_xlim(xmin,xmax)\n",
    "    ax.set_ylim(-0.55, n_feature + 0.5)\n",
    "    ax.vlines(0,-0.5,n_feature + 0.4, linewidth=1)\n",
    "\n",
    "    ax.set_xlabel(\"Decrease in model accuracy\",size=18)\n",
    "\n",
    "    ax.invert_yaxis();\n",
    "    ax.set_ylabel(\"Variable\",size=18)\n",
    "#     ax.set_title(\"Model 4\", size=18)\n",
    "    plt.subplots_adjust(wspace=0.1)"
   ]
  },
  {
   "cell_type": "code",
   "execution_count": 75,
   "metadata": {},
   "outputs": [],
   "source": [
    "# mapping between existing names and new names\n",
    "df_feature_name_mapping = pd.DataFrame({'existing_name':['dur1', 'dur2', 'dur3', 'dur4', 'cost3', 'cost4'], 'new_name':['dur_walking', 'dur_cycling', 'dur_pt', 'dur_driving', 'cost_pt', 'cost_driving']})"
   ]
  },
  {
   "cell_type": "code",
   "execution_count": 76,
   "metadata": {},
   "outputs": [
    {
     "data": {
      "image/png": "[encoded data removed]",
      "text/plain": [
       "<Figure size 360x504 with 1 Axes>"
      ]
     },
     "metadata": {
      "needs_background": "light"
     },
     "output_type": "display_data"
    },
    {
     "data": {
      "image/png": "[encoded data removed]",
      "text/plain": [
       "<Figure size 360x504 with 1 Axes>"
      ]
     },
     "metadata": {
      "needs_background": "light"
     },
     "output_type": "display_data"
    },
    {
     "data": {
      "image/png": "[encoded data removed]",
      "text/plain": [
       "<Figure size 360x504 with 1 Axes>"
      ]
     },
     "metadata": {
      "needs_background": "light"
     },
     "output_type": "display_data"
    },
    {
     "data": {
      "image/png": "[encoded data removed]",
      "text/plain": [
       "<Figure size 360x504 with 1 Axes>"
      ]
     },
     "metadata": {
      "needs_background": "light"
     },
     "output_type": "display_data"
    },
    {
     "data": {
      "image/png": "[encoded data removed]",
      "text/plain": [
       "<Figure size 360x504 with 1 Axes>"
      ]
     },
     "metadata": {
      "needs_background": "light"
     },
     "output_type": "display_data"
    },
    {
     "data": {
      "image/png": "[encoded data removed]",
      "text/plain": [
       "<Figure size 360x504 with 1 Axes>"
      ]
     },
     "metadata": {
      "needs_background": "light"
     },
     "output_type": "display_data"
    }
   ],
   "source": [
    "# use a for loop to plot feature importance for six models\n",
    "dict_model_df_feature_importance = {'RF_Original':rf_original_feature_imp, 'RF_SMOTE': rf_SMOTE_feature_imp, 'RF_ADASYN': rf_ADASYN_feature_imp, 'xgb_original': xgb_original_feature_imp, 'xgb_SMOTE': xgb_SMOTE_feature_imp, 'xgb_ADASYN': xgb_ADASYN_feature_imp}\n",
    "\n",
    "for (model, df_feature_importance) in dict_model_df_feature_importance.items():\n",
    "    plot_feature_importance(df_feature_importance=df_feature_importance, df_feature_name_mapping=df_feature_name_mapping, xmax = 0.25)\n",
    "    plt.savefig('images/feature_importance_' + model + '.tif',bbox_inches='tight',dpi = 300)"
   ]
  }
 ],
 "metadata": {
  "kernelspec": {
   "display_name": "Python [conda env:test_tf]",
   "language": "python",
   "name": "conda-env-test_tf-py"
  },
  "language_info": {
   "codemirror_mode": {
    "name": "ipython",
    "version": 3
   },
   "file_extension": ".py",
   "mimetype": "text/x-python",
   "name": "python",
   "nbconvert_exporter": "python",
   "pygments_lexer": "ipython3",
   "version": "3.6.6"
  },
  "toc": {
   "base_numbering": 1,
   "nav_menu": {
    "height": "166px",
    "width": "188px"
   },
   "number_sections": true,
   "sideBar": true,
   "skip_h1_title": false,
   "title_cell": "Table of Contents",
   "title_sidebar": "Contents",
   "toc_cell": false,
   "toc_position": {
    "height": "calc(100% - 180px)",
    "left": "10px",
    "top": "150px",
    "width": "283.542px"
   },
   "toc_section_display": true,
   "toc_window_display": true
  }
 },
 "nbformat": 4,
 "nbformat_minor": 4
}
